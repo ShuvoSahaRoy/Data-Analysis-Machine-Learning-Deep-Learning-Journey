{
 "cells": [
  {
   "cell_type": "code",
   "execution_count": null,
   "metadata": {},
   "outputs": [],
   "source": [
    "pip install tensorflow"
   ]
  },
  {
   "cell_type": "code",
   "execution_count": 173,
   "metadata": {
    "_cell_guid": "b1076dfc-b9ad-4769-8c92-a6c4dae69d19",
    "_uuid": "8f2839f25d086af736a60e9eeb907d3b93b6e0e5",
    "execution": {
     "iopub.execute_input": "2022-09-08T19:02:03.190907Z",
     "iopub.status.busy": "2022-09-08T19:02:03.190255Z",
     "iopub.status.idle": "2022-09-08T19:02:03.204266Z",
     "shell.execute_reply": "2022-09-08T19:02:03.203185Z",
     "shell.execute_reply.started": "2022-09-08T19:02:03.190868Z"
    }
   },
   "outputs": [],
   "source": [
    "# This Python 3 environment comes with many helpful analytics libraries installed\n",
    "# It is defined by the kaggle/python Docker image: https://github.com/kaggle/docker-python\n",
    "# For example, here's several helpful packages to load\n",
    "\n",
    "import numpy as np # linear algebra\n",
    "import pandas as pd # data processing, CSV file I/O (e.g. pd.read_csv)\n",
    "\n",
    "# Input data files are available in the read-only \"../input/\" directory\n",
    "# For example, running this (by clicking run or pressing Shift+Enter) will list all files under the input directory\n",
    "\n",
    "import os\n",
    "for dirname, _, filenames in os.walk('/kaggle/input'):\n",
    "    for filename in filenames:\n",
    "        print(os.path.join(dirname, filename))\n",
    "\n",
    "# You can write up to 20GB to the current directory (/kaggle/working/) that gets preserved as output when you create a version using \"Save & Run All\" \n",
    "# You can also write temporary files to /kaggle/temp/, but they won't be saved outside of the current session"
   ]
  },
  {
   "cell_type": "code",
   "execution_count": 213,
   "metadata": {
    "execution": {
     "iopub.execute_input": "2022-09-08T19:14:13.924946Z",
     "iopub.status.busy": "2022-09-08T19:14:13.923813Z",
     "iopub.status.idle": "2022-09-08T19:14:13.952239Z",
     "shell.execute_reply": "2022-09-08T19:14:13.950834Z",
     "shell.execute_reply.started": "2022-09-08T19:14:13.924901Z"
    }
   },
   "outputs": [],
   "source": [
    "df = pd.read_csv(\"../input/primaindiansdiabetes/pima-indians-diabetes.csv\", header = None)\n",
    "df.head()"
   ]
  },
  {
   "cell_type": "code",
   "execution_count": 214,
   "metadata": {
    "execution": {
     "iopub.execute_input": "2022-09-08T19:14:14.667818Z",
     "iopub.status.busy": "2022-09-08T19:14:14.667310Z",
     "iopub.status.idle": "2022-09-08T19:14:14.689705Z",
     "shell.execute_reply": "2022-09-08T19:14:14.688843Z",
     "shell.execute_reply.started": "2022-09-08T19:14:14.667765Z"
    }
   },
   "outputs": [],
   "source": [
    "# set columns names\n",
    "df.columns = ['Pregnancies', 'Gluucose', 'BloodPressure','SkinThickness','Insulin','BMI','DiabetesPedigreeFunction', 'Age', 'Outcome']\n",
    "df"
   ]
  },
  {
   "cell_type": "code",
   "execution_count": 215,
   "metadata": {
    "execution": {
     "iopub.execute_input": "2022-09-08T19:14:15.297874Z",
     "iopub.status.busy": "2022-09-08T19:14:15.296539Z",
     "iopub.status.idle": "2022-09-08T19:14:15.306742Z",
     "shell.execute_reply": "2022-09-08T19:14:15.305825Z",
     "shell.execute_reply.started": "2022-09-08T19:14:15.297816Z"
    }
   },
   "outputs": [],
   "source": [
    "df.shape"
   ]
  },
  {
   "cell_type": "code",
   "execution_count": 216,
   "metadata": {
    "execution": {
     "iopub.execute_input": "2022-09-08T19:14:15.713004Z",
     "iopub.status.busy": "2022-09-08T19:14:15.712105Z",
     "iopub.status.idle": "2022-09-08T19:14:15.723932Z",
     "shell.execute_reply": "2022-09-08T19:14:15.722956Z",
     "shell.execute_reply.started": "2022-09-08T19:14:15.712966Z"
    }
   },
   "outputs": [],
   "source": [
    "df[df['Outcome'] == 1].count()"
   ]
  },
  {
   "cell_type": "code",
   "execution_count": 217,
   "metadata": {
    "execution": {
     "iopub.execute_input": "2022-09-08T19:14:16.025098Z",
     "iopub.status.busy": "2022-09-08T19:14:16.024665Z",
     "iopub.status.idle": "2022-09-08T19:14:16.038564Z",
     "shell.execute_reply": "2022-09-08T19:14:16.037115Z",
     "shell.execute_reply.started": "2022-09-08T19:14:16.025062Z"
    }
   },
   "outputs": [],
   "source": [
    "df[df['Outcome'] == 0].count()"
   ]
  },
  {
   "cell_type": "code",
   "execution_count": 218,
   "metadata": {
    "execution": {
     "iopub.execute_input": "2022-09-08T19:14:16.370644Z",
     "iopub.status.busy": "2022-09-08T19:14:16.369496Z",
     "iopub.status.idle": "2022-09-08T19:14:16.382657Z",
     "shell.execute_reply": "2022-09-08T19:14:16.381109Z",
     "shell.execute_reply.started": "2022-09-08T19:14:16.370604Z"
    }
   },
   "outputs": [],
   "source": [
    "df.isnull().sum()"
   ]
  },
  {
   "cell_type": "code",
   "execution_count": 219,
   "metadata": {
    "execution": {
     "iopub.execute_input": "2022-09-08T19:14:16.795898Z",
     "iopub.status.busy": "2022-09-08T19:14:16.795424Z",
     "iopub.status.idle": "2022-09-08T19:14:16.802324Z",
     "shell.execute_reply": "2022-09-08T19:14:16.800672Z",
     "shell.execute_reply.started": "2022-09-08T19:14:16.795864Z"
    }
   },
   "outputs": [],
   "source": [
    "import seaborn as sns"
   ]
  },
  {
   "cell_type": "code",
   "execution_count": 220,
   "metadata": {
    "execution": {
     "iopub.execute_input": "2022-09-08T19:14:17.051414Z",
     "iopub.status.busy": "2022-09-08T19:14:17.050455Z",
     "iopub.status.idle": "2022-09-08T19:14:42.814722Z",
     "shell.execute_reply": "2022-09-08T19:14:42.813458Z",
     "shell.execute_reply.started": "2022-09-08T19:14:17.051374Z"
    }
   },
   "outputs": [],
   "source": [
    "sns.pairplot(df, hue=\"Outcome\")"
   ]
  },
  {
   "cell_type": "code",
   "execution_count": 221,
   "metadata": {
    "execution": {
     "iopub.execute_input": "2022-09-08T19:14:42.818002Z",
     "iopub.status.busy": "2022-09-08T19:14:42.816979Z",
     "iopub.status.idle": "2022-09-08T19:14:42.827170Z",
     "shell.execute_reply": "2022-09-08T19:14:42.825833Z",
     "shell.execute_reply.started": "2022-09-08T19:14:42.817961Z"
    }
   },
   "outputs": [],
   "source": [
    "from sklearn.model_selection import train_test_split\n",
    "\n",
    "### independent features x1,x2,x3,x4 like that\n",
    "X = df.drop('Outcome', axis = 1).values\n",
    "### dependent feature y\n",
    "y = df['Outcome'].values\n",
    "\n",
    "## train test split\n",
    "X_train,X_test,y_train,y_test = train_test_split(X,y,test_size=0.2, random_state = 0)"
   ]
  },
  {
   "cell_type": "code",
   "execution_count": 222,
   "metadata": {
    "execution": {
     "iopub.execute_input": "2022-09-08T19:14:42.829694Z",
     "iopub.status.busy": "2022-09-08T19:14:42.828868Z",
     "iopub.status.idle": "2022-09-08T19:14:42.842094Z",
     "shell.execute_reply": "2022-09-08T19:14:42.840761Z",
     "shell.execute_reply.started": "2022-09-08T19:14:42.829656Z"
    }
   },
   "outputs": [],
   "source": [
    "### starting use of pytorch\n",
    "import torch\n",
    "import torch.nn as nn\n",
    "import torch.nn.functional as F\n",
    "### creating tensors\n",
    "\n",
    "X_train =  torch.FloatTensor(X_train)\n",
    "X_test =  torch.FloatTensor(X_test)\n",
    "y_train = torch.LongTensor(y_train)\n",
    "y_test = torch.LongTensor(y_test)"
   ]
  },
  {
   "cell_type": "code",
   "execution_count": 231,
   "metadata": {
    "execution": {
     "iopub.execute_input": "2022-09-08T19:23:24.293284Z",
     "iopub.status.busy": "2022-09-08T19:23:24.292115Z",
     "iopub.status.idle": "2022-09-08T19:23:24.300691Z",
     "shell.execute_reply": "2022-09-08T19:23:24.299492Z",
     "shell.execute_reply.started": "2022-09-08T19:23:24.293243Z"
    }
   },
   "outputs": [],
   "source": [
    "### creating Modelwith PyTorch\n",
    "class ANN_Model(nn.Module):\n",
    "    def __init__(self,input_features=8,hidden1=20,hidden2=20,out_features=2):\n",
    "        super().__init__()\n",
    "        self.f_connected1=nn.Linear(input_features,hidden1)\n",
    "        self.f_connected2=nn.Linear(hidden1,hidden2)\n",
    "        self.out=nn.Linear(hidden2,out_features)\n",
    "    def forward(self,x):\n",
    "        x=F.relu(self.f_connected1(x))\n",
    "        x=F.relu(self.f_connected2(x))\n",
    "        x=self.out(x)\n",
    "        return x"
   ]
  },
  {
   "cell_type": "code",
   "execution_count": 232,
   "metadata": {
    "execution": {
     "iopub.execute_input": "2022-09-08T19:23:24.923341Z",
     "iopub.status.busy": "2022-09-08T19:23:24.922708Z",
     "iopub.status.idle": "2022-09-08T19:23:24.929661Z",
     "shell.execute_reply": "2022-09-08T19:23:24.928502Z",
     "shell.execute_reply.started": "2022-09-08T19:23:24.923308Z"
    }
   },
   "outputs": [],
   "source": [
    "### instantiate my_model\n",
    "torch.manual_seed(20)\n",
    "model = ANN_Model()"
   ]
  },
  {
   "cell_type": "code",
   "execution_count": 233,
   "metadata": {
    "execution": {
     "iopub.execute_input": "2022-09-08T19:23:28.610116Z",
     "iopub.status.busy": "2022-09-08T19:23:28.609298Z",
     "iopub.status.idle": "2022-09-08T19:23:28.618547Z",
     "shell.execute_reply": "2022-09-08T19:23:28.617255Z",
     "shell.execute_reply.started": "2022-09-08T19:23:28.610071Z"
    }
   },
   "outputs": [],
   "source": [
    "model.parameters"
   ]
  },
  {
   "cell_type": "code",
   "execution_count": 236,
   "metadata": {
    "execution": {
     "iopub.execute_input": "2022-09-08T19:28:26.826193Z",
     "iopub.status.busy": "2022-09-08T19:28:26.825725Z",
     "iopub.status.idle": "2022-09-08T19:28:26.832557Z",
     "shell.execute_reply": "2022-09-08T19:28:26.831602Z",
     "shell.execute_reply.started": "2022-09-08T19:28:26.826156Z"
    }
   },
   "outputs": [],
   "source": [
    "### Backward Propagation -- Define the loss_function, define the optimizer \n",
    "loss_function=nn.CrossEntropyLoss()\n",
    "optimizer=torch.optim.Adam(model.parameters(),lr=0.01)"
   ]
  },
  {
   "cell_type": "code",
   "execution_count": 237,
   "metadata": {
    "execution": {
     "iopub.execute_input": "2022-09-08T19:28:27.358931Z",
     "iopub.status.busy": "2022-09-08T19:28:27.358253Z",
     "iopub.status.idle": "2022-09-08T19:28:27.906401Z",
     "shell.execute_reply": "2022-09-08T19:28:27.904125Z",
     "shell.execute_reply.started": "2022-09-08T19:28:27.358896Z"
    }
   },
   "outputs": [],
   "source": [
    "epochs=500\n",
    "final_losses=[]\n",
    "for i in range(epochs):\n",
    "    i=i+1\n",
    "    y_pred=model.forward(X_train)\n",
    "    loss=loss_function(y_pred,y_train)\n",
    "    final_losses.append(loss)\n",
    "    if i%100==1:\n",
    "        print(\"Epoch number: {} and the loss : {}\".format(i,loss.item()))\n",
    "    optimizer.zero_grad()\n",
    "    loss.backward()\n",
    "    optimizer.step()"
   ]
  },
  {
   "cell_type": "code",
   "execution_count": 238,
   "metadata": {
    "execution": {
     "iopub.execute_input": "2022-09-08T19:28:28.173395Z",
     "iopub.status.busy": "2022-09-08T19:28:28.172975Z",
     "iopub.status.idle": "2022-09-08T19:28:28.181161Z",
     "shell.execute_reply": "2022-09-08T19:28:28.179721Z",
     "shell.execute_reply.started": "2022-09-08T19:28:28.173351Z"
    }
   },
   "outputs": [],
   "source": [
    "### plot the loss function\n",
    "import matplotlib.pyplot as plt\n",
    "%matplotlib inline"
   ]
  },
  {
   "cell_type": "code",
   "execution_count": null,
   "metadata": {
    "execution": {
     "iopub.status.busy": "2022-09-08T19:14:42.940341Z",
     "iopub.status.idle": "2022-09-08T19:14:42.940749Z",
     "shell.execute_reply": "2022-09-08T19:14:42.940581Z",
     "shell.execute_reply.started": "2022-09-08T19:14:42.940562Z"
    }
   },
   "outputs": [],
   "source": [
    "final_losses[:5]"
   ]
  },
  {
   "cell_type": "code",
   "execution_count": null,
   "metadata": {
    "execution": {
     "iopub.status.busy": "2022-09-08T19:14:42.942578Z",
     "iopub.status.idle": "2022-09-08T19:14:42.942984Z",
     "shell.execute_reply": "2022-09-08T19:14:42.942813Z",
     "shell.execute_reply.started": "2022-09-08T19:14:42.942780Z"
    }
   },
   "outputs": [],
   "source": [
    "finalLoss = []\n",
    "for i in range(len(final_losses)):\n",
    "    f = final_losses[i].item()\n",
    "    finalLoss.append(f)"
   ]
  },
  {
   "cell_type": "code",
   "execution_count": null,
   "metadata": {
    "execution": {
     "iopub.status.busy": "2022-09-08T19:14:42.945520Z",
     "iopub.status.idle": "2022-09-08T19:14:42.946202Z",
     "shell.execute_reply": "2022-09-08T19:14:42.945841Z",
     "shell.execute_reply.started": "2022-09-08T19:14:42.945763Z"
    }
   },
   "outputs": [],
   "source": [
    "plt.plot(range(epochs),finalLoss)\n",
    "plt.ylabel('Loss')\n",
    "plt.xlabel('Epoch')"
   ]
  },
  {
   "cell_type": "code",
   "execution_count": null,
   "metadata": {
    "execution": {
     "iopub.status.busy": "2022-09-08T19:14:42.947931Z",
     "iopub.status.idle": "2022-09-08T19:14:42.948555Z",
     "shell.execute_reply": "2022-09-08T19:14:42.948276Z",
     "shell.execute_reply.started": "2022-09-08T19:14:42.948244Z"
    }
   },
   "outputs": [],
   "source": [
    "#### Prediction In X_test data\n",
    "predictions=[]\n",
    "with torch.no_grad():\n",
    "    for i,data in enumerate(X_test):\n",
    "        y_pred=model(data)\n",
    "        print(y_pred)\n",
    "        predictions.append(y_pred.argmax().item())\n",
    "#         print(y_pred.argmax().item())"
   ]
  },
  {
   "cell_type": "code",
   "execution_count": null,
   "metadata": {
    "execution": {
     "iopub.status.busy": "2022-09-08T19:14:42.950276Z",
     "iopub.status.idle": "2022-09-08T19:14:42.950913Z",
     "shell.execute_reply": "2022-09-08T19:14:42.950613Z",
     "shell.execute_reply.started": "2022-09-08T19:14:42.950584Z"
    }
   },
   "outputs": [],
   "source": [
    "from sklearn.metrics import confusion_matrix\n",
    "cm=confusion_matrix(y_test,predictions)\n",
    "cm"
   ]
  },
  {
   "cell_type": "code",
   "execution_count": null,
   "metadata": {
    "execution": {
     "iopub.status.busy": "2022-09-08T19:14:42.952729Z",
     "iopub.status.idle": "2022-09-08T19:14:42.953328Z",
     "shell.execute_reply": "2022-09-08T19:14:42.953075Z",
     "shell.execute_reply.started": "2022-09-08T19:14:42.953046Z"
    }
   },
   "outputs": [],
   "source": [
    "plt.figure(figsize=(5,3))\n",
    "sns.heatmap(cm,annot=True)\n",
    "plt.xlabel('Actual Values')\n",
    "plt.ylabel('Predicted Values')"
   ]
  },
  {
   "cell_type": "code",
   "execution_count": null,
   "metadata": {
    "execution": {
     "iopub.status.busy": "2022-09-08T19:14:42.955371Z",
     "iopub.status.idle": "2022-09-08T19:14:42.955990Z",
     "shell.execute_reply": "2022-09-08T19:14:42.955701Z",
     "shell.execute_reply.started": "2022-09-08T19:14:42.955673Z"
    }
   },
   "outputs": [],
   "source": [
    "from sklearn.metrics import accuracy_score, f1_score,matthews_corrcoef\n",
    "score=accuracy_score(y_test,predictions)\n",
    "f1 = f1_score(y_test, predictions)\n",
    "mcc = matthews_corrcoef(y_test, predictions)\n",
    "print(f\"accuracy {score} f1 {f1} mcc {mcc}\")"
   ]
  },
  {
   "cell_type": "markdown",
   "metadata": {},
   "source": [
    "### Dataset is imbalanced. That's why when I flipped the classes, f1 score changed. To avoid such situations, we don't need to run to the code from beginning. we can do it by calculating MCC. But I am repeating the whole process once again"
   ]
  },
  {
   "cell_type": "code",
   "execution_count": 197,
   "metadata": {
    "execution": {
     "iopub.execute_input": "2022-09-08T19:02:31.265320Z",
     "iopub.status.busy": "2022-09-08T19:02:31.265018Z",
     "iopub.status.idle": "2022-09-08T19:02:31.285499Z",
     "shell.execute_reply": "2022-09-08T19:02:31.284160Z",
     "shell.execute_reply.started": "2022-09-08T19:02:31.265291Z"
    }
   },
   "outputs": [],
   "source": [
    "### Matthew's Correlation Coefficient (MCC)\n",
    "import numpy as np\n",
    "df['Outcome']=np.where(df['Outcome']==1,0,1)\n",
    "df.head()"
   ]
  },
  {
   "cell_type": "code",
   "execution_count": 198,
   "metadata": {
    "execution": {
     "iopub.execute_input": "2022-09-08T19:02:31.287673Z",
     "iopub.status.busy": "2022-09-08T19:02:31.287358Z",
     "iopub.status.idle": "2022-09-08T19:02:31.296599Z",
     "shell.execute_reply": "2022-09-08T19:02:31.295847Z",
     "shell.execute_reply.started": "2022-09-08T19:02:31.287645Z"
    }
   },
   "outputs": [],
   "source": [
    "from sklearn.model_selection import train_test_split\n",
    "\n",
    "### independent features x1,x2,x3,x4 like that\n",
    "X = df.drop('Outcome', axis = 1).values\n",
    "### dependent feature y\n",
    "y = df['Outcome'].values\n",
    "\n",
    "## train test split\n",
    "X_train,X_test,y_train,y_test = train_test_split(X,y,test_size=0.2, random_state = 0)"
   ]
  },
  {
   "cell_type": "code",
   "execution_count": 199,
   "metadata": {
    "execution": {
     "iopub.execute_input": "2022-09-08T19:02:31.298172Z",
     "iopub.status.busy": "2022-09-08T19:02:31.297853Z",
     "iopub.status.idle": "2022-09-08T19:02:31.306689Z",
     "shell.execute_reply": "2022-09-08T19:02:31.305743Z",
     "shell.execute_reply.started": "2022-09-08T19:02:31.298143Z"
    }
   },
   "outputs": [],
   "source": [
    "### starting use of pytorch\n",
    "import torch\n",
    "import torch.nn as nn\n",
    "import torch.nn.functional as F\n",
    "### creating tensors\n",
    "\n",
    "X_train =  torch.FloatTensor(X_train)\n",
    "X_test =  torch.FloatTensor(X_test)\n",
    "y_train = torch.LongTensor(y_train)\n",
    "y_test = torch.LongTensor(y_test)"
   ]
  },
  {
   "cell_type": "code",
   "execution_count": 200,
   "metadata": {
    "execution": {
     "iopub.execute_input": "2022-09-08T19:02:31.310165Z",
     "iopub.status.busy": "2022-09-08T19:02:31.309768Z",
     "iopub.status.idle": "2022-09-08T19:02:31.318784Z",
     "shell.execute_reply": "2022-09-08T19:02:31.317759Z",
     "shell.execute_reply.started": "2022-09-08T19:02:31.310134Z"
    }
   },
   "outputs": [],
   "source": [
    "### creating Modelwith PyTorch\n",
    "class ANN_Model(nn.Module):\n",
    "    def __init__(self,input_features=8,hidden1=20,hidden2=20,out_features=2):\n",
    "        super().__init__()\n",
    "        self.f_connected1=nn.Linear(input_features,hidden1)\n",
    "        self.f_connected2=nn.Linear(hidden1,hidden2)\n",
    "        self.out=nn.Linear(hidden2,out_features)\n",
    "    def forward(self,x):\n",
    "        x=F.relu(self.f_connected1(x))\n",
    "        x=F.relu(self.f_connected2(x))\n",
    "        x=self.out(x)\n",
    "        return x"
   ]
  },
  {
   "cell_type": "code",
   "execution_count": 201,
   "metadata": {
    "execution": {
     "iopub.execute_input": "2022-09-08T19:02:31.321430Z",
     "iopub.status.busy": "2022-09-08T19:02:31.320525Z",
     "iopub.status.idle": "2022-09-08T19:02:31.329359Z",
     "shell.execute_reply": "2022-09-08T19:02:31.328224Z",
     "shell.execute_reply.started": "2022-09-08T19:02:31.321385Z"
    }
   },
   "outputs": [],
   "source": [
    "### instantiate my_model\n",
    "torch.manual_seed(20)\n",
    "model = ANN_Model()"
   ]
  },
  {
   "cell_type": "code",
   "execution_count": 202,
   "metadata": {
    "execution": {
     "iopub.execute_input": "2022-09-08T19:02:31.335551Z",
     "iopub.status.busy": "2022-09-08T19:02:31.334447Z",
     "iopub.status.idle": "2022-09-08T19:02:31.340870Z",
     "shell.execute_reply": "2022-09-08T19:02:31.339764Z",
     "shell.execute_reply.started": "2022-09-08T19:02:31.335496Z"
    }
   },
   "outputs": [],
   "source": [
    "### Backward Propagation -- Define the loss_function, define the optimizer \n",
    "loss_function=nn.CrossEntropyLoss()\n",
    "optimizer=torch.optim.Adam(model.parameters(),lr=0.01)"
   ]
  },
  {
   "cell_type": "code",
   "execution_count": 203,
   "metadata": {
    "execution": {
     "iopub.execute_input": "2022-09-08T19:02:31.343435Z",
     "iopub.status.busy": "2022-09-08T19:02:31.342974Z",
     "iopub.status.idle": "2022-09-08T19:02:31.849609Z",
     "shell.execute_reply": "2022-09-08T19:02:31.848336Z",
     "shell.execute_reply.started": "2022-09-08T19:02:31.343391Z"
    }
   },
   "outputs": [],
   "source": [
    "epochs=500\n",
    "final_losses=[]\n",
    "for i in range(epochs):\n",
    "    i=i+1\n",
    "    y_pred=model.forward(X_train)\n",
    "    loss=loss_function(y_pred,y_train)\n",
    "    final_losses.append(loss)\n",
    "    if i%100==1:\n",
    "        print(\"Epoch number: {} and the loss : {}\".format(i,loss.item()))\n",
    "    optimizer.zero_grad()\n",
    "    loss.backward()\n",
    "    optimizer.step()"
   ]
  },
  {
   "cell_type": "code",
   "execution_count": 204,
   "metadata": {
    "execution": {
     "iopub.execute_input": "2022-09-08T19:02:31.853118Z",
     "iopub.status.busy": "2022-09-08T19:02:31.851368Z",
     "iopub.status.idle": "2022-09-08T19:02:31.861407Z",
     "shell.execute_reply": "2022-09-08T19:02:31.860296Z",
     "shell.execute_reply.started": "2022-09-08T19:02:31.853072Z"
    }
   },
   "outputs": [],
   "source": [
    "### plot the loss function\n",
    "import matplotlib.pyplot as plt\n",
    "%matplotlib inline"
   ]
  },
  {
   "cell_type": "code",
   "execution_count": 205,
   "metadata": {
    "execution": {
     "iopub.execute_input": "2022-09-08T19:02:31.863868Z",
     "iopub.status.busy": "2022-09-08T19:02:31.863268Z",
     "iopub.status.idle": "2022-09-08T19:02:31.877426Z",
     "shell.execute_reply": "2022-09-08T19:02:31.876343Z",
     "shell.execute_reply.started": "2022-09-08T19:02:31.863819Z"
    }
   },
   "outputs": [],
   "source": [
    "finalLoss = []\n",
    "for i in range(len(final_losses)):\n",
    "    f = final_losses[i].item()\n",
    "    finalLoss.append(f)"
   ]
  },
  {
   "cell_type": "code",
   "execution_count": 206,
   "metadata": {
    "execution": {
     "iopub.execute_input": "2022-09-08T19:02:31.879644Z",
     "iopub.status.busy": "2022-09-08T19:02:31.878766Z",
     "iopub.status.idle": "2022-09-08T19:02:32.132406Z",
     "shell.execute_reply": "2022-09-08T19:02:32.131274Z",
     "shell.execute_reply.started": "2022-09-08T19:02:31.879597Z"
    }
   },
   "outputs": [],
   "source": [
    "plt.plot(range(epochs),finalLoss)\n",
    "plt.ylabel('Loss')\n",
    "plt.xlabel('Epoch')"
   ]
  },
  {
   "cell_type": "code",
   "execution_count": 207,
   "metadata": {
    "execution": {
     "iopub.execute_input": "2022-09-08T19:02:32.134346Z",
     "iopub.status.busy": "2022-09-08T19:02:32.133896Z",
     "iopub.status.idle": "2022-09-08T19:02:32.193468Z",
     "shell.execute_reply": "2022-09-08T19:02:32.192324Z",
     "shell.execute_reply.started": "2022-09-08T19:02:32.134299Z"
    }
   },
   "outputs": [],
   "source": [
    "#### Prediction In X_test data\n",
    "predictions=[]\n",
    "with torch.no_grad():\n",
    "    for i,data in enumerate(X_test):\n",
    "        y_pred=model(data)\n",
    "        print(y_pred)\n",
    "        predictions.append(y_pred.argmax().item())\n",
    "#         print(y_pred.argmax().item())"
   ]
  },
  {
   "cell_type": "code",
   "execution_count": 208,
   "metadata": {
    "execution": {
     "iopub.execute_input": "2022-09-08T19:02:32.195407Z",
     "iopub.status.busy": "2022-09-08T19:02:32.195068Z",
     "iopub.status.idle": "2022-09-08T19:02:32.204339Z",
     "shell.execute_reply": "2022-09-08T19:02:32.203138Z",
     "shell.execute_reply.started": "2022-09-08T19:02:32.195376Z"
    }
   },
   "outputs": [],
   "source": [
    "from sklearn.metrics import confusion_matrix\n",
    "cm=confusion_matrix(y_test,predictions)\n",
    "cm"
   ]
  },
  {
   "cell_type": "code",
   "execution_count": 209,
   "metadata": {
    "execution": {
     "iopub.execute_input": "2022-09-08T19:02:32.207031Z",
     "iopub.status.busy": "2022-09-08T19:02:32.205847Z",
     "iopub.status.idle": "2022-09-08T19:02:32.517167Z",
     "shell.execute_reply": "2022-09-08T19:02:32.516076Z",
     "shell.execute_reply.started": "2022-09-08T19:02:32.206977Z"
    }
   },
   "outputs": [],
   "source": [
    "plt.figure(figsize=(10,6))\n",
    "sns.heatmap(cm,annot=True)\n",
    "plt.xlabel('Actual Values')\n",
    "plt.ylabel('Predicted Values')"
   ]
  },
  {
   "cell_type": "code",
   "execution_count": 210,
   "metadata": {
    "execution": {
     "iopub.execute_input": "2022-09-08T19:02:32.519482Z",
     "iopub.status.busy": "2022-09-08T19:02:32.518630Z",
     "iopub.status.idle": "2022-09-08T19:02:32.527951Z",
     "shell.execute_reply": "2022-09-08T19:02:32.526851Z",
     "shell.execute_reply.started": "2022-09-08T19:02:32.519448Z"
    }
   },
   "outputs": [],
   "source": [
    "from sklearn.metrics import accuracy_score, f1_score,matthews_corrcoef\n",
    "score=accuracy_score(y_test,predictions)\n",
    "f1 = f1_score(y_test, predictions)\n",
    "mcc = matthews_corrcoef(y_test, predictions)\n",
    "print(f\"accuracy {score} f1 {f1} mcc {mcc}\")"
   ]
  },
  {
   "cell_type": "code",
   "execution_count": 239,
   "metadata": {
    "execution": {
     "iopub.execute_input": "2022-09-08T20:01:03.540022Z",
     "iopub.status.busy": "2022-09-08T20:01:03.539286Z",
     "iopub.status.idle": "2022-09-08T20:01:03.553737Z",
     "shell.execute_reply": "2022-09-08T20:01:03.552630Z",
     "shell.execute_reply.started": "2022-09-08T20:01:03.539960Z"
    }
   },
   "outputs": [],
   "source": [
    "#### Save the model\n",
    "torch.save(model,'diabetes.pt')"
   ]
  },
  {
   "cell_type": "code",
   "execution_count": 240,
   "metadata": {
    "execution": {
     "iopub.execute_input": "2022-09-08T20:01:37.548450Z",
     "iopub.status.busy": "2022-09-08T20:01:37.547908Z",
     "iopub.status.idle": "2022-09-08T20:01:37.559053Z",
     "shell.execute_reply": "2022-09-08T20:01:37.557652Z",
     "shell.execute_reply.started": "2022-09-08T20:01:37.548401Z"
    }
   },
   "outputs": [],
   "source": [
    "#### Save And Load the model\n",
    "model=torch.load('diabetes.pt')"
   ]
  },
  {
   "cell_type": "code",
   "execution_count": 241,
   "metadata": {
    "execution": {
     "iopub.execute_input": "2022-09-08T20:01:45.071471Z",
     "iopub.status.busy": "2022-09-08T20:01:45.070289Z",
     "iopub.status.idle": "2022-09-08T20:01:45.080056Z",
     "shell.execute_reply": "2022-09-08T20:01:45.078882Z",
     "shell.execute_reply.started": "2022-09-08T20:01:45.071416Z"
    }
   },
   "outputs": [],
   "source": [
    "model.eval()"
   ]
  },
  {
   "cell_type": "code",
   "execution_count": 242,
   "metadata": {
    "execution": {
     "iopub.execute_input": "2022-09-08T20:01:54.531112Z",
     "iopub.status.busy": "2022-09-08T20:01:54.529625Z",
     "iopub.status.idle": "2022-09-08T20:01:54.542416Z",
     "shell.execute_reply": "2022-09-08T20:01:54.541118Z",
     "shell.execute_reply.started": "2022-09-08T20:01:54.531050Z"
    }
   },
   "outputs": [],
   "source": [
    "### Predcition of new data point\n",
    "list(df.iloc[0,:-1])"
   ]
  },
  {
   "cell_type": "code",
   "execution_count": 243,
   "metadata": {
    "execution": {
     "iopub.execute_input": "2022-09-08T20:02:13.429262Z",
     "iopub.status.busy": "2022-09-08T20:02:13.428818Z",
     "iopub.status.idle": "2022-09-08T20:02:13.435376Z",
     "shell.execute_reply": "2022-09-08T20:02:13.433937Z",
     "shell.execute_reply.started": "2022-09-08T20:02:13.429226Z"
    }
   },
   "outputs": [],
   "source": [
    "#### New Data\n",
    "lst1=[6.0, 130.0, 72.0, 40.0, 0.0, 25.6, 0.627, 45.0]"
   ]
  },
  {
   "cell_type": "code",
   "execution_count": 244,
   "metadata": {
    "execution": {
     "iopub.execute_input": "2022-09-08T20:02:22.164548Z",
     "iopub.status.busy": "2022-09-08T20:02:22.164157Z",
     "iopub.status.idle": "2022-09-08T20:02:22.169553Z",
     "shell.execute_reply": "2022-09-08T20:02:22.168399Z",
     "shell.execute_reply.started": "2022-09-08T20:02:22.164517Z"
    }
   },
   "outputs": [],
   "source": [
    "new_data=torch.tensor(lst1)"
   ]
  },
  {
   "cell_type": "code",
   "execution_count": 245,
   "metadata": {
    "execution": {
     "iopub.execute_input": "2022-09-08T20:02:30.181752Z",
     "iopub.status.busy": "2022-09-08T20:02:30.180774Z",
     "iopub.status.idle": "2022-09-08T20:02:30.194145Z",
     "shell.execute_reply": "2022-09-08T20:02:30.192454Z",
     "shell.execute_reply.started": "2022-09-08T20:02:30.181700Z"
    }
   },
   "outputs": [],
   "source": [
    "#### Predict new data using Pytorch\n",
    "with torch.no_grad():\n",
    "    print(model(new_data))\n",
    "    print(model(new_data).argmax().item())"
   ]
  },
  {
   "cell_type": "code",
   "execution_count": null,
   "metadata": {},
   "outputs": [],
   "source": []
  }
 ],
 "metadata": {
  "kernelspec": {
   "display_name": "Python 3 (ipykernel)",
   "language": "python",
   "name": "python3"
  },
  "language_info": {
   "codemirror_mode": {
    "name": "ipython",
    "version": 3
   },
   "file_extension": ".py",
   "mimetype": "text/x-python",
   "name": "python",
   "nbconvert_exporter": "python",
   "pygments_lexer": "ipython3",
   "version": "3.10.5"
  }
 },
 "nbformat": 4,
 "nbformat_minor": 4
}
