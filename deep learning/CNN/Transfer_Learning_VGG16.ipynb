{
 "cells": [
  {
   "cell_type": "markdown",
   "metadata": {
    "id": "yVMp8WykncxX"
   },
   "source": [
    "## Transfer Learning VGG 16 and VGG 19 using Keras"
   ]
  },
  {
   "cell_type": "markdown",
   "metadata": {
    "id": "i_9eTOTGncxc"
   },
   "source": [
    "Please download the dataset from the below url"
   ]
  },
  {
   "cell_type": "code",
   "execution_count": null,
   "metadata": {
    "colab": {
     "base_uri": "https://localhost:8080/"
    },
    "id": "8RlWx92jno_i",
    "outputId": "3fe3c68a-b71b-45fe-c486-ea582b31ee52"
   },
   "outputs": [
    {
     "name": "stdout",
     "output_type": "stream",
     "text": [
      "Drive already mounted at /content/drive; to attempt to forcibly remount, call drive.mount(\"/content/drive\", force_remount=True).\n"
     ]
    }
   ],
   "source": [
    "from google.colab import drive\n",
    "drive.mount('/content/drive')"
   ]
  },
  {
   "cell_type": "code",
   "execution_count": null,
   "metadata": {
    "colab": {
     "base_uri": "https://localhost:8080/"
    },
    "id": "lBBW2SFYncxe",
    "outputId": "3dadf7e0-a765-42ab-ddbf-d22b1bdbc35d"
   },
   "outputs": [
    {
     "name": "stdout",
     "output_type": "stream",
     "text": [
      "Fri Sep 16 18:47:51 2022       \n",
      "+-----------------------------------------------------------------------------+\n",
      "| NVIDIA-SMI 460.32.03    Driver Version: 460.32.03    CUDA Version: 11.2     |\n",
      "|-------------------------------+----------------------+----------------------+\n",
      "| GPU  Name        Persistence-M| Bus-Id        Disp.A | Volatile Uncorr. ECC |\n",
      "| Fan  Temp  Perf  Pwr:Usage/Cap|         Memory-Usage | GPU-Util  Compute M. |\n",
      "|                               |                      |               MIG M. |\n",
      "|===============================+======================+======================|\n",
      "|   0  Tesla T4            Off  | 00000000:00:04.0 Off |                    0 |\n",
      "| N/A   51C    P8    12W /  70W |      0MiB / 15109MiB |      0%      Default |\n",
      "|                               |                      |                  N/A |\n",
      "+-------------------------------+----------------------+----------------------+\n",
      "                                                                               \n",
      "+-----------------------------------------------------------------------------+\n",
      "| Processes:                                                                  |\n",
      "|  GPU   GI   CI        PID   Type   Process name                  GPU Memory |\n",
      "|        ID   ID                                                   Usage      |\n",
      "|=============================================================================|\n",
      "|  No running processes found                                                 |\n",
      "+-----------------------------------------------------------------------------+\n"
     ]
    }
   ],
   "source": [
    "!nvidia-smi"
   ]
  },
  {
   "cell_type": "code",
   "execution_count": null,
   "metadata": {
    "id": "Qz9SKO3Gncxj"
   },
   "outputs": [],
   "source": [
    "# import the libraries as shown below\n",
    "\n",
    "from tensorflow.keras.layers import Input, Lambda, Dense, Flatten\n",
    "from tensorflow.keras.models import Model\n",
    "from tensorflow.keras.applications.vgg16 import VGG16\n",
    "from tensorflow.keras.applications.vgg19 import VGG19\n",
    "from tensorflow.keras.preprocessing import image\n",
    "from tensorflow.keras.preprocessing.image import ImageDataGenerator,load_img, img_to_array\n",
    "from tensorflow.keras.models import Sequential\n",
    "import numpy as np\n",
    "from glob import glob\n",
    "#import matplotlib.pyplot as plt"
   ]
  },
  {
   "cell_type": "code",
   "execution_count": null,
   "metadata": {
    "id": "TJUyTGsXncxj"
   },
   "outputs": [],
   "source": [
    "# re-size all the images to this\n",
    "IMAGE_SIZE = [224, 224]\n",
    "\n",
    "train_path = '/content/drive/MyDrive/breakHis_project/train'\n",
    "valid_path = '/content/drive/MyDrive/breakHis_project/val'\n"
   ]
  },
  {
   "cell_type": "code",
   "execution_count": null,
   "metadata": {
    "id": "TAnAlJR2ncxk"
   },
   "outputs": [],
   "source": [
    "# Import the VGG16 library as shown below and add preprocessing layer to the front of VGG\n",
    "# Here we will be using imagenet weights\n",
    "\n",
    "vgg16 = VGG16(input_shape=IMAGE_SIZE + [3], weights='imagenet', include_top=False)\n",
    "\n",
    "\n"
   ]
  },
  {
   "cell_type": "code",
   "execution_count": null,
   "metadata": {
    "id": "6vnCMKDWncxl"
   },
   "outputs": [],
   "source": [
    "# don't train existing weights\n",
    "for layer in vgg16.layers:\n",
    "    layer.trainable = False"
   ]
  },
  {
   "cell_type": "code",
   "execution_count": null,
   "metadata": {
    "id": "yZH2135kncxm"
   },
   "outputs": [],
   "source": [
    "  # useful for getting number of output classes\n",
    "folders = glob('/content/drive/MyDrive/breakHis_project/train/*')"
   ]
  },
  {
   "cell_type": "code",
   "execution_count": null,
   "metadata": {
    "colab": {
     "base_uri": "https://localhost:8080/"
    },
    "id": "7n-l79vincxn",
    "outputId": "d13d94fc-d8c0-4387-fb1b-22821d386dc5"
   },
   "outputs": [
    {
     "data": {
      "text/plain": [
       "['/content/drive/MyDrive/breakHis_project/train/covid',\n",
       " '/content/drive/MyDrive/breakHis_project/train/normal',\n",
       " '/content/drive/MyDrive/breakHis_project/train/pneumonia']"
      ]
     },
     "execution_count": 11,
     "metadata": {},
     "output_type": "execute_result"
    }
   ],
   "source": [
    "folders"
   ]
  },
  {
   "cell_type": "code",
   "execution_count": null,
   "metadata": {
    "id": "9sKx84ktncxn"
   },
   "outputs": [],
   "source": [
    "# our layers - you can add more if you want\n",
    "x = Flatten()(vgg16.output)"
   ]
  },
  {
   "cell_type": "code",
   "execution_count": null,
   "metadata": {
    "colab": {
     "base_uri": "https://localhost:8080/"
    },
    "id": "tALr-Z34ncxo",
    "outputId": "63f9df8a-a09f-4bf0-e4cd-e7b8220b8dfa"
   },
   "outputs": [
    {
     "data": {
      "text/plain": [
       "3"
      ]
     },
     "execution_count": 13,
     "metadata": {},
     "output_type": "execute_result"
    }
   ],
   "source": [
    "len(folders)"
   ]
  },
  {
   "cell_type": "code",
   "execution_count": null,
   "metadata": {
    "id": "Mmxq0BD9ncxo"
   },
   "outputs": [],
   "source": [
    "prediction = Dense(len(folders), activation='softmax')(x)\n",
    "\n",
    "# create a model object\n",
    "model = Model(inputs=vgg16.input, outputs=prediction)"
   ]
  },
  {
   "cell_type": "code",
   "execution_count": null,
   "metadata": {
    "colab": {
     "base_uri": "https://localhost:8080/"
    },
    "id": "zhGl9kPlncxp",
    "outputId": "51a9a1c0-1c1c-4f65-fb97-93ceecaf3938"
   },
   "outputs": [
    {
     "name": "stdout",
     "output_type": "stream",
     "text": [
      "Model: \"model\"\n",
      "_________________________________________________________________\n",
      " Layer (type)                Output Shape              Param #   \n",
      "=================================================================\n",
      " input_1 (InputLayer)        [(None, 224, 224, 3)]     0         \n",
      "                                                                 \n",
      " block1_conv1 (Conv2D)       (None, 224, 224, 64)      1792      \n",
      "                                                                 \n",
      " block1_conv2 (Conv2D)       (None, 224, 224, 64)      36928     \n",
      "                                                                 \n",
      " block1_pool (MaxPooling2D)  (None, 112, 112, 64)      0         \n",
      "                                                                 \n",
      " block2_conv1 (Conv2D)       (None, 112, 112, 128)     73856     \n",
      "                                                                 \n",
      " block2_conv2 (Conv2D)       (None, 112, 112, 128)     147584    \n",
      "                                                                 \n",
      " block2_pool (MaxPooling2D)  (None, 56, 56, 128)       0         \n",
      "                                                                 \n",
      " block3_conv1 (Conv2D)       (None, 56, 56, 256)       295168    \n",
      "                                                                 \n",
      " block3_conv2 (Conv2D)       (None, 56, 56, 256)       590080    \n",
      "                                                                 \n",
      " block3_conv3 (Conv2D)       (None, 56, 56, 256)       590080    \n",
      "                                                                 \n",
      " block3_pool (MaxPooling2D)  (None, 28, 28, 256)       0         \n",
      "                                                                 \n",
      " block4_conv1 (Conv2D)       (None, 28, 28, 512)       1180160   \n",
      "                                                                 \n",
      " block4_conv2 (Conv2D)       (None, 28, 28, 512)       2359808   \n",
      "                                                                 \n",
      " block4_conv3 (Conv2D)       (None, 28, 28, 512)       2359808   \n",
      "                                                                 \n",
      " block4_pool (MaxPooling2D)  (None, 14, 14, 512)       0         \n",
      "                                                                 \n",
      " block5_conv1 (Conv2D)       (None, 14, 14, 512)       2359808   \n",
      "                                                                 \n",
      " block5_conv2 (Conv2D)       (None, 14, 14, 512)       2359808   \n",
      "                                                                 \n",
      " block5_conv3 (Conv2D)       (None, 14, 14, 512)       2359808   \n",
      "                                                                 \n",
      " block5_pool (MaxPooling2D)  (None, 7, 7, 512)         0         \n",
      "                                                                 \n",
      " flatten (Flatten)           (None, 25088)             0         \n",
      "                                                                 \n",
      " dense (Dense)               (None, 3)                 75267     \n",
      "                                                                 \n",
      "=================================================================\n",
      "Total params: 14,789,955\n",
      "Trainable params: 75,267\n",
      "Non-trainable params: 14,714,688\n",
      "_________________________________________________________________\n"
     ]
    }
   ],
   "source": [
    "\n",
    "# view the structure of the model\n",
    "model.summary()\n"
   ]
  },
  {
   "cell_type": "code",
   "execution_count": null,
   "metadata": {
    "id": "sbXZDV1Rncxp"
   },
   "outputs": [],
   "source": [
    "# tell the model what cost and optimization method to use\n",
    "model.compile(\n",
    "  loss='categorical_crossentropy',\n",
    "  optimizer='adam',\n",
    "  metrics=['accuracy']\n",
    ")\n"
   ]
  },
  {
   "cell_type": "code",
   "execution_count": null,
   "metadata": {
    "id": "Yznz8N_ancxp"
   },
   "outputs": [],
   "source": [
    "# Use the Image Data Generator to import the images from the dataset\n",
    "from tensorflow.keras.preprocessing.image import ImageDataGenerator\n",
    "\n",
    "train_datagen = ImageDataGenerator(rescale = 1./255,\n",
    "                                   shear_range = 0.2,\n",
    "                                   zoom_range = 0.2,\n",
    "                                   horizontal_flip = True)\n",
    "\n",
    "test_datagen = ImageDataGenerator(rescale = 1./255)"
   ]
  },
  {
   "cell_type": "code",
   "execution_count": null,
   "metadata": {
    "colab": {
     "base_uri": "https://localhost:8080/"
    },
    "id": "u69NRksincxq",
    "outputId": "c555ef8e-3300-477a-c22b-37c9ccf16906"
   },
   "outputs": [
    {
     "name": "stdout",
     "output_type": "stream",
     "text": [
      "Found 2823 images belonging to 3 classes.\n",
      "Found 807 images belonging to 3 classes.\n"
     ]
    }
   ],
   "source": [
    "# Make sure you provide the same target size as initialied for the image size\n",
    "training_set = train_datagen.flow_from_directory('/content/drive/MyDrive/breakHis_project/train',\n",
    "                                                 target_size = (224, 224),\n",
    "                                                 batch_size = 32,\n",
    "                                                 class_mode = 'categorical')\n",
    "val_set = test_datagen.flow_from_directory('/content/drive/MyDrive/breakHis_project/val',\n",
    "                                            target_size = (224, 224),\n",
    "                                            batch_size = 32,\n",
    "                                            class_mode = 'categorical')"
   ]
  },
  {
   "cell_type": "code",
   "execution_count": null,
   "metadata": {
    "colab": {
     "base_uri": "https://localhost:8080/"
    },
    "id": "5Uun-edpncxq",
    "outputId": "f262696f-ca9a-4f5c-b296-e75eb64aab24"
   },
   "outputs": [
    {
     "name": "stdout",
     "output_type": "stream",
     "text": [
      "Found 405 images belonging to 3 classes.\n"
     ]
    }
   ],
   "source": [
    "test_set = test_datagen.flow_from_directory('/content/drive/MyDrive/breakHis_project/test',\n",
    "                                            target_size = (224, 224),\n",
    "                                            batch_size = 32,\n",
    "                                            class_mode = 'categorical')"
   ]
  },
  {
   "cell_type": "code",
   "execution_count": null,
   "metadata": {
    "colab": {
     "base_uri": "https://localhost:8080/"
    },
    "id": "d5DZjDOFncxr",
    "outputId": "38a01f7b-68f8-4bf6-b106-ce32b1a843d2",
    "scrolled": true
   },
   "outputs": [
    {
     "name": "stderr",
     "output_type": "stream",
     "text": [
      "/usr/local/lib/python3.7/dist-packages/ipykernel_launcher.py:8: UserWarning: `Model.fit_generator` is deprecated and will be removed in a future version. Please use `Model.fit`, which supports generators.\n",
      "  \n"
     ]
    },
    {
     "name": "stdout",
     "output_type": "stream",
     "text": [
      "Epoch 1/20\n",
      "89/89 [==============================] - 56s 495ms/step - loss: 0.3875 - accuracy: 0.8569 - val_loss: 0.1378 - val_accuracy: 0.9616\n",
      "Epoch 2/20\n",
      "89/89 [==============================] - 43s 483ms/step - loss: 0.1961 - accuracy: 0.9352 - val_loss: 0.1366 - val_accuracy: 0.9529\n",
      "Epoch 3/20\n",
      "89/89 [==============================] - 42s 474ms/step - loss: 0.1820 - accuracy: 0.9366 - val_loss: 0.1115 - val_accuracy: 0.9653\n",
      "Epoch 4/20\n",
      "89/89 [==============================] - 43s 479ms/step - loss: 0.1588 - accuracy: 0.9511 - val_loss: 0.0980 - val_accuracy: 0.9678\n",
      "Epoch 5/20\n",
      "89/89 [==============================] - 43s 485ms/step - loss: 0.1592 - accuracy: 0.9405 - val_loss: 0.1625 - val_accuracy: 0.9442\n",
      "Epoch 6/20\n",
      "89/89 [==============================] - 43s 487ms/step - loss: 0.1356 - accuracy: 0.9532 - val_loss: 0.2264 - val_accuracy: 0.9244\n",
      "Epoch 7/20\n",
      "89/89 [==============================] - 54s 603ms/step - loss: 0.1298 - accuracy: 0.9561 - val_loss: 0.2471 - val_accuracy: 0.9145\n",
      "Epoch 8/20\n",
      "89/89 [==============================] - 50s 556ms/step - loss: 0.1172 - accuracy: 0.9593 - val_loss: 0.1262 - val_accuracy: 0.9504\n",
      "Epoch 9/20\n",
      "89/89 [==============================] - 44s 496ms/step - loss: 0.1029 - accuracy: 0.9649 - val_loss: 0.3505 - val_accuracy: 0.8959\n",
      "Epoch 10/20\n",
      "89/89 [==============================] - 44s 491ms/step - loss: 0.1239 - accuracy: 0.9578 - val_loss: 0.1530 - val_accuracy: 0.9529\n",
      "Epoch 11/20\n",
      "89/89 [==============================] - 43s 478ms/step - loss: 0.1370 - accuracy: 0.9593 - val_loss: 0.6421 - val_accuracy: 0.8315\n",
      "Epoch 12/20\n",
      "89/89 [==============================] - 43s 486ms/step - loss: 0.1275 - accuracy: 0.9593 - val_loss: 0.2747 - val_accuracy: 0.9058\n",
      "Epoch 13/20\n",
      "89/89 [==============================] - 43s 479ms/step - loss: 0.0944 - accuracy: 0.9649 - val_loss: 0.0917 - val_accuracy: 0.9603\n",
      "Epoch 14/20\n",
      "89/89 [==============================] - 43s 477ms/step - loss: 0.0766 - accuracy: 0.9756 - val_loss: 0.1082 - val_accuracy: 0.9603\n",
      "Epoch 15/20\n",
      "89/89 [==============================] - 43s 482ms/step - loss: 0.0860 - accuracy: 0.9702 - val_loss: 0.2374 - val_accuracy: 0.9195\n",
      "Epoch 16/20\n",
      "89/89 [==============================] - 44s 495ms/step - loss: 0.0834 - accuracy: 0.9724 - val_loss: 0.0777 - val_accuracy: 0.9715\n",
      "Epoch 17/20\n",
      "89/89 [==============================] - 43s 486ms/step - loss: 0.0819 - accuracy: 0.9724 - val_loss: 0.2389 - val_accuracy: 0.9182\n",
      "Epoch 18/20\n",
      "89/89 [==============================] - 43s 477ms/step - loss: 0.0914 - accuracy: 0.9646 - val_loss: 0.2663 - val_accuracy: 0.9182\n",
      "Epoch 19/20\n",
      "89/89 [==============================] - 44s 489ms/step - loss: 0.0761 - accuracy: 0.9731 - val_loss: 0.1039 - val_accuracy: 0.9616\n",
      "Epoch 20/20\n",
      "89/89 [==============================] - 43s 477ms/step - loss: 0.0785 - accuracy: 0.9660 - val_loss: 0.1788 - val_accuracy: 0.9393\n"
     ]
    }
   ],
   "source": [
    "# fit the model\n",
    "# Run the cell. It will take some time to execute\n",
    "r = model.fit_generator(\n",
    "  training_set,\n",
    "  validation_data=val_set,\n",
    "  epochs=20,\n",
    "  steps_per_epoch=len(training_set),\n",
    "  validation_steps=len(val_set)\n",
    ")"
   ]
  },
  {
   "cell_type": "code",
   "execution_count": null,
   "metadata": {
    "id": "3WBZ9eYgncxs"
   },
   "outputs": [],
   "source": [
    "import matplotlib.pyplot as plt"
   ]
  },
  {
   "cell_type": "code",
   "execution_count": null,
   "metadata": {
    "colab": {
     "base_uri": "https://localhost:8080/",
     "height": 532
    },
    "id": "a93nwtsJncxs",
    "outputId": "8f7f916e-2277-4de4-cce7-b23de55b0748"
   },
   "outputs": [
    {
     "data": {
      "image/png": "[encoded data removed]",
      "text/plain": [
       "<Figure size 432x288 with 1 Axes>"
      ]
     },
     "metadata": {
      "needs_background": "light"
     },
     "output_type": "display_data"
    },
    {
     "data": {
      "image/png": "[encoded data removed]",
      "text/plain": [
       "<Figure size 432x288 with 1 Axes>"
      ]
     },
     "metadata": {
      "needs_background": "light"
     },
     "output_type": "display_data"
    },
    {
     "data": {
      "text/plain": [
       "<Figure size 432x288 with 0 Axes>"
      ]
     },
     "metadata": {},
     "output_type": "display_data"
    }
   ],
   "source": [
    "# plot the loss\n",
    "plt.plot(r.history['loss'], label='train loss')\n",
    "plt.plot(r.history['val_loss'], label='val loss')\n",
    "plt.legend()\n",
    "plt.show()\n",
    "plt.savefig('LossVal_loss')\n",
    "\n",
    "# plot the accuracy\n",
    "plt.plot(r.history['accuracy'], label='train acc')\n",
    "plt.plot(r.history['val_accuracy'], label='val acc')\n",
    "plt.legend()\n",
    "plt.show()\n",
    "plt.savefig('AccVal_acc')"
   ]
  },
  {
   "cell_type": "code",
   "execution_count": null,
   "metadata": {
    "colab": {
     "base_uri": "https://localhost:8080/"
    },
    "id": "KA5rBheH2Dar",
    "outputId": "d40a7d65-6bd6-4b4e-94c7-6338db54699b"
   },
   "outputs": [
    {
     "data": {
      "text/plain": [
       "0.954463341832161"
      ]
     },
     "execution_count": 23,
     "metadata": {},
     "output_type": "execute_result"
    }
   ],
   "source": [
    "# average training accuracy\n",
    "np.mean(r.history['accuracy'])"
   ]
  },
  {
   "cell_type": "code",
   "execution_count": null,
   "metadata": {
    "colab": {
     "base_uri": "https://localhost:8080/"
    },
    "id": "P5oi-pjPl83H",
    "outputId": "5c623398-9beb-485d-fae4-b03c2190c079"
   },
   "outputs": [
    {
     "name": "stdout",
     "output_type": "stream",
     "text": [
      "26/26 [==============================] - 4s 158ms/step - loss: 0.1788 - accuracy: 0.9393\n"
     ]
    },
    {
     "data": {
      "text/plain": [
       "[0.17881956696510315, 0.9392812848091125]"
      ]
     },
     "execution_count": 24,
     "metadata": {},
     "output_type": "execute_result"
    }
   ],
   "source": [
    "# val accuracy\n",
    "model.evaluate(val_set)"
   ]
  },
  {
   "cell_type": "code",
   "execution_count": null,
   "metadata": {
    "colab": {
     "base_uri": "https://localhost:8080/"
    },
    "id": "o5UtRSPjz-RX",
    "outputId": "36e66d83-76b3-4158-8d25-1372284d0fef"
   },
   "outputs": [
    {
     "name": "stdout",
     "output_type": "stream",
     "text": [
      "13/13 [==============================] - 4s 338ms/step - loss: 0.2062 - accuracy: 0.9481\n"
     ]
    },
    {
     "data": {
      "text/plain": [
       "[0.20619991421699524, 0.9481481313705444]"
      ]
     },
     "execution_count": 25,
     "metadata": {},
     "output_type": "execute_result"
    }
   ],
   "source": [
    "# test accuracy\n",
    "model.evaluate(test_set)"
   ]
  },
  {
   "cell_type": "code",
   "execution_count": null,
   "metadata": {
    "colab": {
     "base_uri": "https://localhost:8080/"
    },
    "id": "KodvU4HJ2dPk",
    "outputId": "ef4f63bc-3f63-4c38-f38f-18613c51851c"
   },
   "outputs": [
    {
     "data": {
      "text/plain": [
       "{'covid': 0, 'normal': 1, 'pneumonia': 2}"
      ]
     },
     "execution_count": 26,
     "metadata": {},
     "output_type": "execute_result"
    }
   ],
   "source": [
    "test_set.class_indices"
   ]
  },
  {
   "cell_type": "code",
   "execution_count": null,
   "metadata": {
    "colab": {
     "base_uri": "https://localhost:8080/"
    },
    "id": "m9BMNduDlUFS",
    "outputId": "4c782ad9-973a-498f-a169-98b2325406bb"
   },
   "outputs": [
    {
     "name": "stdout",
     "output_type": "stream",
     "text": [
      "\n",
      "\n",
      "                 precision    recall  f1-score   support\n",
      "\n",
      "          COVID    0.39850   0.39259   0.39552       135\n",
      "         Normal    0.32237   0.36296   0.34146       135\n",
      "Viral Pneumonia    0.37500   0.33333   0.35294       135\n",
      "\n",
      "       accuracy                        0.36296       405\n",
      "      macro avg    0.36529   0.36296   0.36331       405\n",
      "   weighted avg    0.36529   0.36296   0.36331       405\n",
      "\n"
     ]
    }
   ],
   "source": [
    "from sklearn.metrics import confusion_matrix, classification_report\n",
    "prob = model.predict(test_set)\n",
    "predIdxs = np.argmax(prob, axis=1) \n",
    "\n",
    "print('\\n')\n",
    "print(classification_report(test_set.labels, predIdxs,target_names = ['COVID','Normal','Viral Pneumonia'], digits=5))"
   ]
  },
  {
   "cell_type": "code",
   "execution_count": null,
   "metadata": {
    "id": "aUTQreMLncxu"
   },
   "outputs": [],
   "source": [
    "\n",
    "y_true = test_set.labels\n",
    "y_pred = predIdxs\n",
    "# cm=confusion_matrix(y_true,y_pred)\n",
    "# cm"
   ]
  },
  {
   "cell_type": "code",
   "execution_count": null,
   "metadata": {
    "id": "HERTADdz4Dgd"
   },
   "outputs": [],
   "source": [
    "# import seaborn as sns\n",
    "# plt.figure(figsize=(10,6))\n",
    "# sns.heatmap(cm,annot=True)\n",
    "# plt.xlabel('Actual Values')\n",
    "# plt.ylabel('Predicted Values')"
   ]
  },
  {
   "cell_type": "code",
   "execution_count": null,
   "metadata": {
    "colab": {
     "base_uri": "https://localhost:8080/"
    },
    "id": "ufCPC2Oa4KQR",
    "outputId": "e09e7438-8367-491d-9a8a-8f401a83d527"
   },
   "outputs": [
    {
     "name": "stdout",
     "output_type": "stream",
     "text": [
      "0.36296296296296304 0.362962962962963 0.362962962962963 0.36296296296296293\n"
     ]
    }
   ],
   "source": [
    "from sklearn.metrics import accuracy_score, f1_score,matthews_corrcoef,make_scorer, precision_score, recall_score, balanced_accuracy_score\n",
    "score=accuracy_score(y_true,y_pred)\n",
    "# scorers = {\n",
    "#             'f1_score': make_scorer(f1_score, average='micro'),\n",
    "#             # 'precision_score': make_scorer(precision_score, average='micro'),\n",
    "#             # 'recall_score': make_scorer(recall_score, average='micro'),\n",
    "#             'accuracy_score': make_scorer(accuracy_score)\n",
    "# }\n",
    "f1 = f1_score(y_true, y_pred,  average='micro')\n",
    "pre = precision_score(y_true, y_pred,  average='micro')\n",
    "recall = recall_score(y_true, y_pred,  average='micro')\n",
    "acc = balanced_accuracy_score(y_true, y_pred)\n",
    "# mcc = matthews_corrcoef(y_true,y_pred)\n",
    "# print(f\"accuracy {score} f1 {f1} mcc {mcc}\")\n",
    "\n",
    "print(f1, pre, recall, acc)"
   ]
  },
  {
   "cell_type": "code",
   "execution_count": null,
   "metadata": {
    "id": "pYWLlzNAncxt"
   },
   "outputs": [],
   "source": [
    "# # # save it as a h5 file\n",
    "# from tensorflow.keras.models import load_model\n",
    "# model.save('model_vgg16.h5')"
   ]
  },
  {
   "cell_type": "code",
   "execution_count": null,
   "metadata": {
    "id": "AfYEb5xI6CWi"
   },
   "outputs": [],
   "source": [
    "# model=load_model('model_resnet50.h5')"
   ]
  },
  {
   "cell_type": "code",
   "execution_count": null,
   "metadata": {
    "id": "XYQfO2Nkncxw"
   },
   "outputs": [],
   "source": [
    "# from keras.applications.imagenet_utils import preprocess_input\n",
    "# This is when using the VGG16/VGG19/ResNet50\n",
    "\n",
    "# If you use Inception_V3 or XCeption, use:\n",
    "# from keras.applications.inception_v3 import preprocess_input\n",
    "from keras.applications.vgg16 import preprocess_input\n",
    "import numpy as np\n",
    "x=np.expand_dims(x,axis=0)\n",
    "img_data=preprocess_input(x)\n",
    "img_data.shape\n",
    "img = img_data.reshape((1, 224, 224, 3))"
   ]
  },
  {
   "cell_type": "code",
   "execution_count": null,
   "metadata": {
    "id": "Tb5Q6pSUncxw"
   },
   "outputs": [],
   "source": [
    "model.predict(img)"
   ]
  },
  {
   "cell_type": "code",
   "execution_count": null,
   "metadata": {
    "id": "zxKQ6H1Nncxw"
   },
   "outputs": [],
   "source": [
    "a=np.argmax(model.predict(img), axis=1)\n",
    "a"
   ]
  },
  {
   "cell_type": "code",
   "execution_count": null,
   "metadata": {
    "id": "PLX8qcC8ncxw"
   },
   "outputs": [],
   "source": [
    "a==1"
   ]
  },
  {
   "cell_type": "code",
   "execution_count": null,
   "metadata": {
    "colab": {
     "base_uri": "https://localhost:8080/"
    },
    "id": "fsNICkwx36dV",
    "outputId": "c69d657b-17fc-4b0c-eb8e-c451c20c5841"
   },
   "outputs": [
    {
     "name": "stdout",
     "output_type": "stream",
     "text": [
      "True value is : COVID\n"
     ]
    }
   ],
   "source": [
    "img_path = '/content/COVID-64.png'\n",
    "\n",
    "category = img_path.split('/')[-1].split('-')[0].upper()\n",
    "true = ''\n",
    "if category == 'COVID':\n",
    "    true = 'COVID'\n",
    "elif category == 'VIRAL PNEUMONIA':\n",
    "    true = 'Viral Pneumonia'\n",
    "else:\n",
    "    true = 'Normal'\n",
    "print(f'True value is : {true}')\n",
    "image = load_img(img_path, target_size=(224, 224))\n",
    "img = img_to_array(image)/255\n",
    "img = img.reshape((1, 224, 224, 3))"
   ]
  },
  {
   "cell_type": "code",
   "execution_count": null,
   "metadata": {
    "colab": {
     "base_uri": "https://localhost:8080/",
     "height": 342
    },
    "id": "Wkk9v-MSnAoC",
    "outputId": "a0879c10-5fff-40dd-e23a-796580debcd9"
   },
   "outputs": [
    {
     "name": "stdout",
     "output_type": "stream",
     "text": [
      "True value is : COVID\n",
      "Prediction is:\n",
      "Normal\n"
     ]
    },
    {
     "data": {
      "text/plain": [
       "<matplotlib.image.AxesImage at 0x7fa21cfc1310>"
      ]
     },
     "execution_count": 57,
     "metadata": {},
     "output_type": "execute_result"
    },
    {
     "data": {
      "image/png": "[encoded data removed]",
      "text/plain": [
       "<Figure size 432x288 with 1 Axes>"
      ]
     },
     "metadata": {
      "needs_background": "light"
     },
     "output_type": "display_data"
    }
   ],
   "source": [
    "\n",
    "print(f'True value is : {true}')\n",
    "image = load_img(img_path, target_size=(224, 224))\n",
    "img = img_to_array(image)/255\n",
    "img = img.reshape((1, 224, 224, 3))\n",
    "\n",
    "result = model.predict(img)\n",
    "result = np.argmax(result, axis=-1)\n",
    "print('Prediction is:')\n",
    "if result == 0:\n",
    "    print(\"Normal\")\n",
    "elif result == 1:\n",
    "    print(\"Viral Pneumonia\")\n",
    "else:\n",
    "    print(\"COVID \")\n",
    "    \n",
    "plt.imshow(image)"
   ]
  },
  {
   "cell_type": "code",
   "execution_count": null,
   "metadata": {
    "id": "2cGUaKTgnYX_"
   },
   "outputs": [],
   "source": []
  }
 ],
 "metadata": {
  "accelerator": "GPU",
  "colab": {
   "provenance": []
  },
  "kernelspec": {
   "display_name": "Python 3 (ipykernel)",
   "language": "python",
   "name": "python3"
  },
  "language_info": {
   "codemirror_mode": {
    "name": "ipython",
    "version": 3
   },
   "file_extension": ".py",
   "mimetype": "text/x-python",
   "name": "python",
   "nbconvert_exporter": "python",
   "pygments_lexer": "ipython3",
   "version": "3.10.5"
  }
 },
 "nbformat": 4,
 "nbformat_minor": 1
}
