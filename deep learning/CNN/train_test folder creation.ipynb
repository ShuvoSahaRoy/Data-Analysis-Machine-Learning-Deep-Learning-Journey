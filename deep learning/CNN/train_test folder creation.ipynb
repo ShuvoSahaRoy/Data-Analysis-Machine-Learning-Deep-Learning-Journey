{
 "cells": [
  {
   "cell_type": "code",
   "execution_count": 9,
   "id": "7287e5c4",
   "metadata": {},
   "outputs": [],
   "source": [
    "import os\n",
    "import splitfolders\n",
    "# train validation test split\n",
    "input_folder = r\"D:\\breakHis project\\dataset\\lung_colon_image_set\\lung_image_sets\""
   ]
  },
  {
   "cell_type": "code",
   "execution_count": 10,
   "id": "aa3dd1bf",
   "metadata": {},
   "outputs": [
    {
     "name": "stderr",
     "output_type": "stream",
     "text": [
      "Copying files: 15000 files [01:49, 137.02 files/s]\n"
     ]
    }
   ],
   "source": [
    "# Split with a ratio.\n",
    "# To only split into training and validation set, set a tuple to `ratio`, i.e, `(.8, .2)`.\n",
    "#Train, val, test\n",
    "splitfolders.ratio(input_folder, output=r\"D:\\breakHis project\\dataset\\lung_colon_image_set\\lung_image_sets\", \n",
    "                   seed=42, ratio=(.7, .2,.1),                   # (.7, .2, .1)\n",
    "                   group_prefix=None) # default values"
   ]
  },
  {
   "cell_type": "code",
   "execution_count": null,
   "id": "39a1219d",
   "metadata": {},
   "outputs": [],
   "source": []
  }
 ],
 "metadata": {
  "kernelspec": {
   "display_name": "forMl",
   "language": "python",
   "name": "forml"
  },
  "language_info": {
   "codemirror_mode": {
    "name": "ipython",
    "version": 3
   },
   "file_extension": ".py",
   "mimetype": "text/x-python",
   "name": "python",
   "nbconvert_exporter": "python",
   "pygments_lexer": "ipython3",
   "version": "3.10.5"
  }
 },
 "nbformat": 4,
 "nbformat_minor": 5
}
