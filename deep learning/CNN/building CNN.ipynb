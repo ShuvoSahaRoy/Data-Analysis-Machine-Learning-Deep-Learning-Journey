{
 "cells": [
  {
   "cell_type": "markdown",
   "id": "74459ce0",
   "metadata": {},
   "source": [
    "### Check GPU information"
   ]
  },
  {
   "cell_type": "code",
   "execution_count": 2,
   "id": "b70f9e97",
   "metadata": {},
   "outputs": [
    {
     "name": "stdout",
     "output_type": "stream",
     "text": [
      "Name: /physical_device:GPU:0   Type: GPU\n"
     ]
    }
   ],
   "source": [
    "import tensorflow as tf\n",
    "gpus = tf.config.list_physical_devices('GPU')\n",
    "for gpu in gpus:\n",
    "    print(\"Name:\", gpu.name, \"  Type:\", gpu.device_type)"
   ]
  },
  {
   "cell_type": "code",
   "execution_count": 3,
   "id": "1ae65650",
   "metadata": {},
   "outputs": [
    {
     "name": "stdout",
     "output_type": "stream",
     "text": [
      "Num GPUs Available:  1\n"
     ]
    }
   ],
   "source": [
    "# import tensorflow as tf\n",
    "\n",
    "print(\"Num GPUs Available: \", len(tf.config.list_physical_devices('GPU')))"
   ]
  },
  {
   "cell_type": "code",
   "execution_count": 4,
   "id": "6c128fb9",
   "metadata": {},
   "outputs": [
    {
     "name": "stdout",
     "output_type": "stream",
     "text": [
      "WARNING:tensorflow:From C:\\Users\\sshuv\\AppData\\Local\\Temp\\ipykernel_15424\\337460670.py:1: is_gpu_available (from tensorflow.python.framework.test_util) is deprecated and will be removed in a future version.\n",
      "Instructions for updating:\n",
      "Use `tf.config.list_physical_devices('GPU')` instead.\n"
     ]
    },
    {
     "data": {
      "text/plain": [
       "True"
      ]
     },
     "execution_count": 4,
     "metadata": {},
     "output_type": "execute_result"
    }
   ],
   "source": [
    "tf.test.is_gpu_available()"
   ]
  },
  {
   "cell_type": "code",
   "execution_count": 5,
   "id": "c7d0d729",
   "metadata": {},
   "outputs": [
    {
     "name": "stdout",
     "output_type": "stream",
     "text": [
      "True\n"
     ]
    }
   ],
   "source": [
    "print(tf.test.is_built_with_cuda())"
   ]
  },
  {
   "cell_type": "code",
   "execution_count": 6,
   "id": "bd7277e5",
   "metadata": {
    "scrolled": true
   },
   "outputs": [
    {
     "name": "stdout",
     "output_type": "stream",
     "text": [
      "[name: \"/device:CPU:0\"\n",
      "device_type: \"CPU\"\n",
      "memory_limit: 268435456\n",
      "locality {\n",
      "}\n",
      "incarnation: 15879746417499006959\n",
      "xla_global_id: -1\n",
      ", name: \"/device:GPU:0\"\n",
      "device_type: \"GPU\"\n",
      "memory_limit: 1431542171\n",
      "locality {\n",
      "  bus_id: 1\n",
      "  links {\n",
      "  }\n",
      "}\n",
      "incarnation: 9805740906613770013\n",
      "physical_device_desc: \"device: 0, name: NVIDIA GeForce 940MX, pci bus id: 0000:01:00.0, compute capability: 5.0\"\n",
      "xla_global_id: 416903419\n",
      "]\n"
     ]
    }
   ],
   "source": [
    "from tensorflow.python.client import device_lib \n",
    "print(device_lib.list_local_devices())"
   ]
  },
  {
   "cell_type": "code",
   "execution_count": 7,
   "id": "cd57c7bb",
   "metadata": {},
   "outputs": [],
   "source": [
    "config = tf.compat.v1.ConfigProto()\n",
    "config.gpu_options.allow_growth=True\n",
    "sess = tf.compat.v1.Session(config=config)"
   ]
  },
  {
   "cell_type": "code",
   "execution_count": 8,
   "id": "15acd72b",
   "metadata": {},
   "outputs": [
    {
     "name": "stdout",
     "output_type": "stream",
     "text": [
      "Fri Dec 30 14:33:03 2022       \n",
      "+-----------------------------------------------------------------------------+\n",
      "| NVIDIA-SMI 527.56       Driver Version: 527.56       CUDA Version: 12.0     |\n",
      "|-------------------------------+----------------------+----------------------+\n",
      "| GPU  Name            TCC/WDDM | Bus-Id        Disp.A | Volatile Uncorr. ECC |\n",
      "| Fan  Temp  Perf  Pwr:Usage/Cap|         Memory-Usage | GPU-Util  Compute M. |\n",
      "|                               |                      |               MIG M. |\n",
      "|===============================+======================+======================|\n",
      "|   0  NVIDIA GeForce ... WDDM  | 00000000:01:00.0 Off |                  N/A |\n",
      "| N/A    0C    P8    N/A /  N/A |    241MiB /  2048MiB |     48%      Default |\n",
      "|                               |                      |                  N/A |\n",
      "+-------------------------------+----------------------+----------------------+\n",
      "                                                                               \n",
      "+-----------------------------------------------------------------------------+\n",
      "| Processes:                                                                  |\n",
      "|  GPU   GI   CI        PID   Type   Process name                  GPU Memory |\n",
      "|        ID   ID                                                   Usage      |\n",
      "|=============================================================================|\n",
      "|    0   N/A  N/A      1328    C+G   ...5n1h2txyewy\\SearchApp.exe    N/A      |\n",
      "|    0   N/A  N/A      2492    C+G   ...kyb3d8bbwe\\Calculator.exe    N/A      |\n",
      "|    0   N/A  N/A      3636    C+G   ...ekyb3d8bbwe\\YourPhone.exe    N/A      |\n",
      "|    0   N/A  N/A      4504    C+G   ...8wekyb3d8bbwe\\Cortana.exe    N/A      |\n",
      "|    0   N/A  N/A      7056    C+G   ...icrosoft VS Code\\Code.exe    N/A      |\n",
      "|    0   N/A  N/A      8024    C+G   ...5n1h2txyewy\\SearchApp.exe    N/A      |\n",
      "|    0   N/A  N/A     10968    C+G   ...2txyewy\\TextInputHost.exe    N/A      |\n",
      "|    0   N/A  N/A     15424      C   ...thon\\Python310\\python.exe    N/A      |\n",
      "|    0   N/A  N/A     15580    C+G   ...v1g1gvanyjgm\\WhatsApp.exe    N/A      |\n",
      "+-----------------------------------------------------------------------------+\n"
     ]
    }
   ],
   "source": [
    "!nvidia-smi"
   ]
  },
  {
   "cell_type": "code",
   "execution_count": null,
   "id": "ceb19199",
   "metadata": {},
   "outputs": [],
   "source": [
    "# pip install SciPy"
   ]
  },
  {
   "cell_type": "code",
   "execution_count": 1,
   "id": "6a995921",
   "metadata": {},
   "outputs": [
    {
     "name": "stdout",
     "output_type": "stream",
     "text": [
      "Name: tensorflow\n",
      "Version: 2.10.0\n",
      "Summary: TensorFlow is an open source machine learning framework for everyone.\n",
      "Home-page: https://www.tensorflow.org/\n",
      "Author: Google Inc.\n",
      "Author-email: packages@tensorflow.org\n",
      "License: Apache 2.0\n",
      "Location: e:\\codes\\python\\journey data analysis & machine learning\\ml environment\\lib\\site-packages\n",
      "Requires: absl-py, astunparse, flatbuffers, gast, google-pasta, grpcio, h5py, keras, keras-preprocessing, libclang, numpy, opt-einsum, packaging, protobuf, setuptools, six, tensorboard, tensorflow-estimator, tensorflow-io-gcs-filesystem, termcolor, typing-extensions, wrapt\n",
      "Required-by: \n",
      "Note: you may need to restart the kernel to use updated packages.\n"
     ]
    }
   ],
   "source": [
    "# pip show tensorflow"
   ]
  },
  {
   "cell_type": "markdown",
   "id": "cf67ec0e",
   "metadata": {},
   "source": [
    "### Import Libraries"
   ]
  },
  {
   "cell_type": "code",
   "execution_count": 1,
   "id": "16c9e812",
   "metadata": {},
   "outputs": [],
   "source": [
    "from tensorflow.keras.models import Sequential\n",
    "from tensorflow.keras.layers import Convolution2D, MaxPooling2D, Flatten, Dense\n",
    "import numpy as np, os, scipy"
   ]
  },
  {
   "cell_type": "code",
   "execution_count": 2,
   "id": "176cfe71",
   "metadata": {},
   "outputs": [],
   "source": [
    "classifier = Sequential()"
   ]
  },
  {
   "cell_type": "markdown",
   "id": "ac24e62b",
   "metadata": {},
   "source": [
    "### CNN model building"
   ]
  },
  {
   "cell_type": "code",
   "execution_count": 3,
   "id": "bc11d884",
   "metadata": {},
   "outputs": [],
   "source": [
    "classifier.add(Convolution2D(32,3,3,input_shape=(64,64,3), activation = 'relu'))\n",
    "classifier.add(MaxPooling2D(pool_size = (2,2)))\n",
    "\n",
    "classifier.add(Convolution2D(64,3,3, activation = 'relu'))\n",
    "classifier.add(MaxPooling2D(pool_size = (2,2)))\n",
    "\n",
    "classifier.add(Flatten())\n",
    "classifier.add(Dense(units = 128, activation = 'relu'))\n",
    "classifier.add(Dense(units = 1, activation = 'sigmoid'))"
   ]
  },
  {
   "cell_type": "code",
   "execution_count": 4,
   "id": "5c7de6b8",
   "metadata": {},
   "outputs": [],
   "source": [
    "classifier.compile(optimizer = 'adam', loss='binary_crossentropy', metrics = ['accuracy'])"
   ]
  },
  {
   "cell_type": "code",
   "execution_count": 5,
   "id": "e8775aea",
   "metadata": {},
   "outputs": [],
   "source": [
    "from tensorflow.keras.preprocessing.image import ImageDataGenerator"
   ]
  },
  {
   "cell_type": "code",
   "execution_count": 6,
   "id": "251b6e27",
   "metadata": {},
   "outputs": [],
   "source": [
    "train_datagen = ImageDataGenerator(rescale = 1./255,\n",
    "                                   shear_range = 0.2,\n",
    "                                   zoom_range = 0.2,\n",
    "                                   horizontal_flip = True)\n",
    "\n",
    "test_datagen = ImageDataGenerator(rescale = 1./255)"
   ]
  },
  {
   "cell_type": "code",
   "execution_count": 7,
   "id": "1b37fa35",
   "metadata": {},
   "outputs": [],
   "source": [
    "train_path = r'D:\\image classification\\done\\Br35H  Brain Tumor Detection 2020 binary\\train'\n",
    "valid_path = r'D:\\image classification\\done\\Br35H  Brain Tumor Detection 2020 binary\\val'\n",
    "test_path = r'D:\\image classification\\done\\Br35H  Brain Tumor Detection 2020 binary\\test'"
   ]
  },
  {
   "cell_type": "code",
   "execution_count": 8,
   "id": "4f13a300",
   "metadata": {},
   "outputs": [],
   "source": [
    "# total_train, total_val =0, 0\n",
    "\n",
    "# for _,_, files in os.walk(train_path):\n",
    "#     total_train += len(files)\n",
    "# for _,_, files in os.walk(valid_path):\n",
    "#     total_val += len(files)\n",
    "\n",
    "# print(f\"No of training files {total_train}\\nNo of validation files {total_val}\")"
   ]
  },
  {
   "cell_type": "code",
   "execution_count": 9,
   "id": "60ec0b16",
   "metadata": {},
   "outputs": [
    {
     "name": "stdout",
     "output_type": "stream",
     "text": [
      "Found 1994 images belonging to 2 classes.\n",
      "Found 570 images belonging to 2 classes.\n",
      "Found 286 images belonging to 2 classes.\n"
     ]
    }
   ],
   "source": [
    "# Make sure you provide the same target size as initialied for the image size\n",
    "training_set = train_datagen.flow_from_directory(train_path,\n",
    "                                                 target_size = (64,64),\n",
    "                                                 batch_size = 32,\n",
    "                                                 class_mode = 'binary')\n",
    "val_set = test_datagen.flow_from_directory(valid_path,\n",
    "                                            target_size = (64,64),\n",
    "                                            batch_size = 32,\n",
    "                                            class_mode = 'binary')\n",
    "test_set = test_datagen.flow_from_directory(test_path,\n",
    "                                            target_size = (64,64),\n",
    "                                            batch_size = 32,\n",
    "                                            class_mode = 'binary',\n",
    "                                            shuffle = False)"
   ]
  },
  {
   "cell_type": "code",
   "execution_count": 10,
   "id": "88cf79d6",
   "metadata": {},
   "outputs": [
    {
     "name": "stdout",
     "output_type": "stream",
     "text": [
      "No of training files 1994\n",
      "No of validation files 570\n"
     ]
    }
   ],
   "source": [
    "total_train = training_set.samples\n",
    "total_val = val_set.samples\n",
    "print(f\"No of training files {total_train}\\nNo of validation files {total_val}\")"
   ]
  },
  {
   "cell_type": "code",
   "execution_count": 18,
   "id": "aafb5568",
   "metadata": {},
   "outputs": [
    {
     "name": "stdout",
     "output_type": "stream",
     "text": [
      "Epoch 1/100\n",
      "63/63 [==============================] - 7s 108ms/step - loss: 0.3300 - accuracy: 0.8521 - val_loss: 0.4467 - val_accuracy: 0.8088\n",
      "Epoch 2/100\n",
      "63/63 [==============================] - 7s 107ms/step - loss: 0.3247 - accuracy: 0.8651 - val_loss: 0.5164 - val_accuracy: 0.7789\n",
      "Epoch 3/100\n",
      "63/63 [==============================] - 7s 111ms/step - loss: 0.3228 - accuracy: 0.8611 - val_loss: 0.3716 - val_accuracy: 0.8404\n",
      "Epoch 4/100\n",
      "63/63 [==============================] - 8s 122ms/step - loss: 0.3082 - accuracy: 0.8761 - val_loss: 0.3186 - val_accuracy: 0.8544\n",
      "Epoch 5/100\n",
      "63/63 [==============================] - 8s 127ms/step - loss: 0.3178 - accuracy: 0.8616 - val_loss: 0.3286 - val_accuracy: 0.8474\n",
      "Epoch 6/100\n",
      "63/63 [==============================] - 15s 236ms/step - loss: 0.2957 - accuracy: 0.8726 - val_loss: 0.3518 - val_accuracy: 0.8509\n",
      "Epoch 7/100\n",
      "63/63 [==============================] - 13s 200ms/step - loss: 0.3041 - accuracy: 0.8711 - val_loss: 0.4323 - val_accuracy: 0.8333\n",
      "Epoch 8/100\n",
      "63/63 [==============================] - 7s 108ms/step - loss: 0.3055 - accuracy: 0.8671 - val_loss: 0.3399 - val_accuracy: 0.8544\n",
      "Epoch 9/100\n",
      "63/63 [==============================] - 7s 107ms/step - loss: 0.2970 - accuracy: 0.8766 - val_loss: 0.3190 - val_accuracy: 0.8561\n",
      "Epoch 10/100\n",
      "63/63 [==============================] - 7s 105ms/step - loss: 0.2825 - accuracy: 0.8801 - val_loss: 0.3389 - val_accuracy: 0.8509\n",
      "Epoch 11/100\n",
      "63/63 [==============================] - 7s 116ms/step - loss: 0.2772 - accuracy: 0.8816 - val_loss: 0.3089 - val_accuracy: 0.8596\n",
      "Epoch 12/100\n",
      "63/63 [==============================] - 7s 107ms/step - loss: 0.2639 - accuracy: 0.8867 - val_loss: 0.2886 - val_accuracy: 0.8737\n",
      "Epoch 13/100\n",
      "63/63 [==============================] - 7s 107ms/step - loss: 0.2689 - accuracy: 0.8826 - val_loss: 0.3499 - val_accuracy: 0.8509\n",
      "Epoch 14/100\n",
      "63/63 [==============================] - 7s 110ms/step - loss: 0.2922 - accuracy: 0.8781 - val_loss: 0.3661 - val_accuracy: 0.8474\n",
      "Epoch 15/100\n",
      "63/63 [==============================] - 7s 106ms/step - loss: 0.2657 - accuracy: 0.8862 - val_loss: 0.3998 - val_accuracy: 0.8193\n",
      "Epoch 16/100\n",
      "63/63 [==============================] - 7s 107ms/step - loss: 0.2541 - accuracy: 0.9067 - val_loss: 0.2946 - val_accuracy: 0.8789\n",
      "Epoch 17/100\n",
      "63/63 [==============================] - 7s 114ms/step - loss: 0.2875 - accuracy: 0.8786 - val_loss: 0.2950 - val_accuracy: 0.8719\n",
      "Epoch 18/100\n",
      "63/63 [==============================] - 7s 109ms/step - loss: 0.2618 - accuracy: 0.8902 - val_loss: 0.3477 - val_accuracy: 0.8421\n",
      "Epoch 19/100\n",
      "63/63 [==============================] - 7s 107ms/step - loss: 0.2322 - accuracy: 0.9042 - val_loss: 0.3428 - val_accuracy: 0.8491\n",
      "Epoch 20/100\n",
      "63/63 [==============================] - 7s 107ms/step - loss: 0.2418 - accuracy: 0.8987 - val_loss: 0.2626 - val_accuracy: 0.8860\n",
      "Epoch 21/100\n",
      "63/63 [==============================] - 7s 110ms/step - loss: 0.2434 - accuracy: 0.9012 - val_loss: 0.2757 - val_accuracy: 0.8947\n",
      "Epoch 22/100\n",
      "63/63 [==============================] - 7s 114ms/step - loss: 0.2273 - accuracy: 0.9102 - val_loss: 0.2738 - val_accuracy: 0.8895\n",
      "Epoch 23/100\n",
      "63/63 [==============================] - 7s 110ms/step - loss: 0.2622 - accuracy: 0.8877 - val_loss: 0.2957 - val_accuracy: 0.8754\n",
      "Epoch 24/100\n",
      "63/63 [==============================] - 7s 109ms/step - loss: 0.2292 - accuracy: 0.9077 - val_loss: 0.2680 - val_accuracy: 0.8877\n",
      "Epoch 25/100\n",
      "63/63 [==============================] - 10s 160ms/step - loss: 0.2399 - accuracy: 0.9092 - val_loss: 0.3931 - val_accuracy: 0.8404\n",
      "Epoch 26/100\n",
      "63/63 [==============================] - 21s 339ms/step - loss: 0.2436 - accuracy: 0.9032 - val_loss: 0.2911 - val_accuracy: 0.8702\n",
      "Epoch 27/100\n",
      "63/63 [==============================] - 16s 246ms/step - loss: 0.2330 - accuracy: 0.9052 - val_loss: 0.2844 - val_accuracy: 0.8842\n",
      "Epoch 28/100\n",
      "63/63 [==============================] - 16s 255ms/step - loss: 0.2051 - accuracy: 0.9223 - val_loss: 0.2694 - val_accuracy: 0.8825\n",
      "Epoch 29/100\n",
      "63/63 [==============================] - 8s 131ms/step - loss: 0.1947 - accuracy: 0.9238 - val_loss: 0.4202 - val_accuracy: 0.8298\n",
      "Epoch 30/100\n",
      "63/63 [==============================] - 8s 120ms/step - loss: 0.2041 - accuracy: 0.9162 - val_loss: 0.2837 - val_accuracy: 0.8895\n",
      "Epoch 31/100\n",
      "63/63 [==============================] - 7s 112ms/step - loss: 0.1935 - accuracy: 0.9218 - val_loss: 0.2811 - val_accuracy: 0.8895\n",
      "Epoch 32/100\n",
      "63/63 [==============================] - 7s 113ms/step - loss: 0.2073 - accuracy: 0.9178 - val_loss: 0.3097 - val_accuracy: 0.8719\n",
      "Epoch 33/100\n",
      "63/63 [==============================] - 7s 114ms/step - loss: 0.1930 - accuracy: 0.9238 - val_loss: 0.2461 - val_accuracy: 0.9000\n",
      "Epoch 34/100\n",
      "63/63 [==============================] - 7s 112ms/step - loss: 0.1949 - accuracy: 0.9198 - val_loss: 0.3101 - val_accuracy: 0.8596\n",
      "Epoch 35/100\n",
      "63/63 [==============================] - 7s 119ms/step - loss: 0.1900 - accuracy: 0.9263 - val_loss: 0.2593 - val_accuracy: 0.9035\n",
      "Epoch 36/100\n",
      "63/63 [==============================] - 7s 118ms/step - loss: 0.1937 - accuracy: 0.9283 - val_loss: 0.2599 - val_accuracy: 0.9053\n",
      "Epoch 37/100\n",
      "63/63 [==============================] - 8s 126ms/step - loss: 0.1896 - accuracy: 0.9293 - val_loss: 0.4037 - val_accuracy: 0.8474\n",
      "Epoch 38/100\n",
      "63/63 [==============================] - 12s 196ms/step - loss: 0.1826 - accuracy: 0.9278 - val_loss: 0.3262 - val_accuracy: 0.8947\n",
      "Epoch 39/100\n",
      "63/63 [==============================] - 9s 141ms/step - loss: 0.2251 - accuracy: 0.9132 - val_loss: 0.2471 - val_accuracy: 0.8912\n",
      "Epoch 40/100\n",
      "63/63 [==============================] - 8s 125ms/step - loss: 0.1780 - accuracy: 0.9358 - val_loss: 0.2506 - val_accuracy: 0.9000\n",
      "Epoch 41/100\n",
      "63/63 [==============================] - 11s 181ms/step - loss: 0.1742 - accuracy: 0.9368 - val_loss: 0.2587 - val_accuracy: 0.8930\n",
      "Epoch 42/100\n",
      "63/63 [==============================] - 11s 176ms/step - loss: 0.1753 - accuracy: 0.9323 - val_loss: 0.4148 - val_accuracy: 0.8596\n",
      "Epoch 43/100\n",
      "63/63 [==============================] - 10s 159ms/step - loss: 0.1879 - accuracy: 0.9243 - val_loss: 0.3269 - val_accuracy: 0.8895\n",
      "Epoch 44/100\n",
      "63/63 [==============================] - 10s 160ms/step - loss: 0.1571 - accuracy: 0.9468 - val_loss: 0.2254 - val_accuracy: 0.9175\n",
      "Epoch 45/100\n",
      "63/63 [==============================] - 10s 153ms/step - loss: 0.1677 - accuracy: 0.9398 - val_loss: 0.2581 - val_accuracy: 0.9105\n",
      "Epoch 46/100\n",
      "63/63 [==============================] - 9s 148ms/step - loss: 0.1701 - accuracy: 0.9333 - val_loss: 0.5119 - val_accuracy: 0.8298\n",
      "Epoch 47/100\n",
      "63/63 [==============================] - 8s 135ms/step - loss: 0.1723 - accuracy: 0.9383 - val_loss: 0.2418 - val_accuracy: 0.9246\n",
      "Epoch 48/100\n",
      "63/63 [==============================] - 10s 161ms/step - loss: 0.1615 - accuracy: 0.9338 - val_loss: 0.3312 - val_accuracy: 0.8877\n",
      "Epoch 49/100\n",
      "63/63 [==============================] - 9s 137ms/step - loss: 0.1672 - accuracy: 0.9323 - val_loss: 0.2536 - val_accuracy: 0.9053\n",
      "Epoch 50/100\n",
      "63/63 [==============================] - 10s 154ms/step - loss: 0.1595 - accuracy: 0.9373 - val_loss: 0.2846 - val_accuracy: 0.9158\n",
      "Epoch 51/100\n",
      "63/63 [==============================] - 8s 123ms/step - loss: 0.1442 - accuracy: 0.9463 - val_loss: 0.2599 - val_accuracy: 0.9035\n",
      "Epoch 52/100\n",
      "63/63 [==============================] - 7s 110ms/step - loss: 0.1475 - accuracy: 0.9463 - val_loss: 0.2357 - val_accuracy: 0.9281\n",
      "Epoch 53/100\n",
      "63/63 [==============================] - 7s 111ms/step - loss: 0.1588 - accuracy: 0.9368 - val_loss: 0.2206 - val_accuracy: 0.9351\n",
      "Epoch 54/100\n",
      "63/63 [==============================] - 7s 109ms/step - loss: 0.1864 - accuracy: 0.9248 - val_loss: 0.2244 - val_accuracy: 0.9158\n",
      "Epoch 55/100\n",
      "63/63 [==============================] - 7s 111ms/step - loss: 0.1513 - accuracy: 0.9418 - val_loss: 0.2976 - val_accuracy: 0.8877\n",
      "Epoch 56/100\n",
      "63/63 [==============================] - 7s 111ms/step - loss: 0.1329 - accuracy: 0.9539 - val_loss: 0.3681 - val_accuracy: 0.8842\n",
      "Epoch 57/100\n",
      "63/63 [==============================] - 7s 110ms/step - loss: 0.1536 - accuracy: 0.9438 - val_loss: 0.2291 - val_accuracy: 0.9123\n"
     ]
    },
    {
     "name": "stdout",
     "output_type": "stream",
     "text": [
      "Epoch 58/100\n",
      "63/63 [==============================] - 7s 109ms/step - loss: 0.1513 - accuracy: 0.9433 - val_loss: 0.2328 - val_accuracy: 0.9158\n",
      "Epoch 59/100\n",
      "63/63 [==============================] - 7s 107ms/step - loss: 0.1384 - accuracy: 0.9423 - val_loss: 0.3916 - val_accuracy: 0.8719\n",
      "Epoch 60/100\n",
      "63/63 [==============================] - 8s 122ms/step - loss: 0.1589 - accuracy: 0.9343 - val_loss: 0.2560 - val_accuracy: 0.9000\n",
      "Epoch 61/100\n",
      "63/63 [==============================] - 12s 192ms/step - loss: 0.1305 - accuracy: 0.9488 - val_loss: 0.3968 - val_accuracy: 0.8754\n",
      "Epoch 62/100\n",
      "63/63 [==============================] - 10s 162ms/step - loss: 0.1441 - accuracy: 0.9448 - val_loss: 0.2191 - val_accuracy: 0.9298\n",
      "Epoch 63/100\n",
      "63/63 [==============================] - 8s 121ms/step - loss: 0.1483 - accuracy: 0.9448 - val_loss: 0.3431 - val_accuracy: 0.8842\n",
      "Epoch 64/100\n",
      "63/63 [==============================] - 8s 122ms/step - loss: 0.1497 - accuracy: 0.9438 - val_loss: 0.2294 - val_accuracy: 0.9281\n",
      "Epoch 65/100\n",
      "63/63 [==============================] - 8s 122ms/step - loss: 0.1473 - accuracy: 0.9438 - val_loss: 0.3093 - val_accuracy: 0.8947\n",
      "Epoch 66/100\n",
      "63/63 [==============================] - 8s 126ms/step - loss: 0.1318 - accuracy: 0.9514 - val_loss: 0.2126 - val_accuracy: 0.9298\n",
      "Epoch 67/100\n",
      "63/63 [==============================] - 8s 127ms/step - loss: 0.1329 - accuracy: 0.9468 - val_loss: 0.2422 - val_accuracy: 0.9316\n",
      "Epoch 68/100\n",
      "63/63 [==============================] - 13s 207ms/step - loss: 0.1374 - accuracy: 0.9393 - val_loss: 0.2141 - val_accuracy: 0.9386\n",
      "Epoch 69/100\n",
      "63/63 [==============================] - 13s 211ms/step - loss: 0.1388 - accuracy: 0.9498 - val_loss: 0.2736 - val_accuracy: 0.9123\n",
      "Epoch 70/100\n",
      "63/63 [==============================] - 13s 210ms/step - loss: 0.1434 - accuracy: 0.9443 - val_loss: 0.3268 - val_accuracy: 0.8860\n",
      "Epoch 71/100\n",
      "63/63 [==============================] - 11s 176ms/step - loss: 0.1318 - accuracy: 0.9478 - val_loss: 0.3143 - val_accuracy: 0.8772\n",
      "Epoch 72/100\n",
      "63/63 [==============================] - 12s 189ms/step - loss: 0.1279 - accuracy: 0.9534 - val_loss: 0.2602 - val_accuracy: 0.9053\n",
      "Epoch 73/100\n",
      "63/63 [==============================] - 9s 145ms/step - loss: 0.1216 - accuracy: 0.9589 - val_loss: 0.2354 - val_accuracy: 0.9193\n",
      "Epoch 74/100\n",
      "63/63 [==============================] - 10s 166ms/step - loss: 0.1225 - accuracy: 0.9539 - val_loss: 0.2021 - val_accuracy: 0.9404\n",
      "Epoch 75/100\n",
      "63/63 [==============================] - 11s 167ms/step - loss: 0.1360 - accuracy: 0.9478 - val_loss: 0.2578 - val_accuracy: 0.9175\n",
      "Epoch 76/100\n",
      "63/63 [==============================] - 8s 131ms/step - loss: 0.1240 - accuracy: 0.9579 - val_loss: 0.2091 - val_accuracy: 0.9211\n",
      "Epoch 77/100\n",
      "63/63 [==============================] - 9s 135ms/step - loss: 0.1192 - accuracy: 0.9534 - val_loss: 0.2314 - val_accuracy: 0.9281\n",
      "Epoch 78/100\n",
      "63/63 [==============================] - 7s 106ms/step - loss: 0.1316 - accuracy: 0.9473 - val_loss: 0.2142 - val_accuracy: 0.9263\n",
      "Epoch 79/100\n",
      "63/63 [==============================] - 7s 105ms/step - loss: 0.1253 - accuracy: 0.9529 - val_loss: 0.2111 - val_accuracy: 0.9263\n",
      "Epoch 80/100\n",
      "63/63 [==============================] - 7s 109ms/step - loss: 0.1099 - accuracy: 0.9589 - val_loss: 0.2284 - val_accuracy: 0.9263\n",
      "Epoch 81/100\n",
      "63/63 [==============================] - 6s 101ms/step - loss: 0.1152 - accuracy: 0.9609 - val_loss: 0.2478 - val_accuracy: 0.9281\n",
      "Epoch 82/100\n",
      "63/63 [==============================] - 10s 158ms/step - loss: 0.1017 - accuracy: 0.9644 - val_loss: 0.3158 - val_accuracy: 0.9053\n",
      "Epoch 83/100\n",
      "63/63 [==============================] - 9s 141ms/step - loss: 0.1136 - accuracy: 0.9589 - val_loss: 0.2392 - val_accuracy: 0.9281\n",
      "Epoch 84/100\n",
      "63/63 [==============================] - 10s 154ms/step - loss: 0.1246 - accuracy: 0.9514 - val_loss: 0.2611 - val_accuracy: 0.9140\n",
      "Epoch 85/100\n",
      "63/63 [==============================] - 8s 126ms/step - loss: 0.1266 - accuracy: 0.9529 - val_loss: 0.2905 - val_accuracy: 0.9105\n",
      "Epoch 86/100\n",
      "63/63 [==============================] - 8s 126ms/step - loss: 0.1199 - accuracy: 0.9519 - val_loss: 0.2389 - val_accuracy: 0.9123\n",
      "Epoch 87/100\n",
      "63/63 [==============================] - 10s 160ms/step - loss: 0.1316 - accuracy: 0.9458 - val_loss: 0.2556 - val_accuracy: 0.9140\n",
      "Epoch 88/100\n",
      "63/63 [==============================] - 13s 207ms/step - loss: 0.1047 - accuracy: 0.9584 - val_loss: 0.3089 - val_accuracy: 0.9053\n",
      "Epoch 89/100\n",
      "63/63 [==============================] - 8s 131ms/step - loss: 0.1136 - accuracy: 0.9599 - val_loss: 0.2576 - val_accuracy: 0.9140\n",
      "Epoch 90/100\n",
      "63/63 [==============================] - 10s 166ms/step - loss: 0.1220 - accuracy: 0.9594 - val_loss: 0.2491 - val_accuracy: 0.9193\n",
      "Epoch 91/100\n",
      "63/63 [==============================] - 7s 113ms/step - loss: 0.1035 - accuracy: 0.9629 - val_loss: 0.3487 - val_accuracy: 0.8947\n",
      "Epoch 92/100\n",
      "63/63 [==============================] - 9s 137ms/step - loss: 0.1159 - accuracy: 0.9554 - val_loss: 0.2347 - val_accuracy: 0.9316\n",
      "Epoch 93/100\n",
      "63/63 [==============================] - 7s 118ms/step - loss: 0.1172 - accuracy: 0.9549 - val_loss: 0.2356 - val_accuracy: 0.9281\n",
      "Epoch 94/100\n",
      "63/63 [==============================] - 8s 119ms/step - loss: 0.1213 - accuracy: 0.9544 - val_loss: 0.3918 - val_accuracy: 0.8789\n",
      "Epoch 95/100\n",
      "63/63 [==============================] - 8s 133ms/step - loss: 0.1014 - accuracy: 0.9619 - val_loss: 0.3765 - val_accuracy: 0.8860\n",
      "Epoch 96/100\n",
      "63/63 [==============================] - 10s 156ms/step - loss: 0.1070 - accuracy: 0.9614 - val_loss: 0.2485 - val_accuracy: 0.9228\n",
      "Epoch 97/100\n",
      "63/63 [==============================] - 7s 117ms/step - loss: 0.1189 - accuracy: 0.9524 - val_loss: 0.2467 - val_accuracy: 0.9281\n",
      "Epoch 98/100\n",
      "63/63 [==============================] - 7s 116ms/step - loss: 0.1135 - accuracy: 0.9544 - val_loss: 0.2246 - val_accuracy: 0.9281\n",
      "Epoch 99/100\n",
      "63/63 [==============================] - 7s 113ms/step - loss: 0.1033 - accuracy: 0.9634 - val_loss: 0.1921 - val_accuracy: 0.9368\n",
      "Epoch 100/100\n",
      "63/63 [==============================] - 7s 116ms/step - loss: 0.1120 - accuracy: 0.9579 - val_loss: 0.3008 - val_accuracy: 0.9123\n"
     ]
    }
   ],
   "source": [
    "BATCH_SIZE = 16\n",
    "model = classifier.fit(\n",
    "    training_set,\n",
    "#     steps_per_epoch=int(np.ceil(total_train / float(BATCH_SIZE))),\n",
    "    epochs=100,\n",
    "    validation_data=val_set,\n",
    "#     validation_steps=int(np.ceil(total_val / float(BATCH_SIZE)))\n",
    ")"
   ]
  },
  {
   "cell_type": "code",
   "execution_count": 13,
   "id": "c5d5ae74",
   "metadata": {},
   "outputs": [
    {
     "data": {
      "image/png": "[encoded data removed]",
      "text/plain": [
       "<Figure size 640x480 with 1 Axes>"
      ]
     },
     "metadata": {},
     "output_type": "display_data"
    },
    {
     "data": {
      "image/png": "[encoded data removed]",
      "text/plain": [
       "<Figure size 640x480 with 1 Axes>"
      ]
     },
     "metadata": {},
     "output_type": "display_data"
    }
   ],
   "source": [
    "import matplotlib.pyplot as plt\n",
    "# plot the loss\n",
    "plt.plot(model.history['loss'], label='train loss')\n",
    "plt.plot(model.history['val_loss'], label='val loss')\n",
    "plt.legend()\n",
    "plt.show()\n",
    "# plt.savefig('LossVal_loss')\n",
    "\n",
    "# plot the accuracy\n",
    "plt.plot(model.history['accuracy'], label='train acc')\n",
    "plt.plot(model.history['val_accuracy'], label='val acc')\n",
    "plt.legend()\n",
    "plt.show()\n",
    "# plt.savefig('AccVal_acc')"
   ]
  },
  {
   "cell_type": "code",
   "execution_count": 14,
   "id": "002b03c7",
   "metadata": {},
   "outputs": [
    {
     "data": {
      "text/plain": [
       "0.8054914683103561"
      ]
     },
     "execution_count": 14,
     "metadata": {},
     "output_type": "execute_result"
    }
   ],
   "source": [
    "# average training accuracy\n",
    "import numpy as np\n",
    "np.mean(model.history['accuracy'])"
   ]
  },
  {
   "cell_type": "code",
   "execution_count": 15,
   "id": "85bda96c",
   "metadata": {},
   "outputs": [
    {
     "name": "stdout",
     "output_type": "stream",
     "text": [
      "18/18 [==============================] - 1s 52ms/step - loss: 0.4720 - accuracy: 0.8000\n"
     ]
    },
    {
     "data": {
      "text/plain": [
       "[0.47202444076538086, 0.800000011920929]"
      ]
     },
     "execution_count": 15,
     "metadata": {},
     "output_type": "execute_result"
    }
   ],
   "source": [
    "# val accuracy\n",
    "classifier.evaluate(val_set)"
   ]
  },
  {
   "cell_type": "code",
   "execution_count": 16,
   "id": "153309bc",
   "metadata": {},
   "outputs": [
    {
     "name": "stdout",
     "output_type": "stream",
     "text": [
      "9/9 [==============================] - 2s 242ms/step - loss: 0.4409 - accuracy: 0.8077\n"
     ]
    },
    {
     "data": {
      "text/plain": [
       "[0.44089704751968384, 0.807692289352417]"
      ]
     },
     "execution_count": 16,
     "metadata": {},
     "output_type": "execute_result"
    }
   ],
   "source": [
    "# test accuracy\n",
    "classifier.evaluate(test_set)"
   ]
  },
  {
   "cell_type": "code",
   "execution_count": 17,
   "id": "9bfccebc",
   "metadata": {},
   "outputs": [
    {
     "data": {
      "text/plain": [
       "{'no': 0, 'yes': 1}"
      ]
     },
     "execution_count": 17,
     "metadata": {},
     "output_type": "execute_result"
    }
   ],
   "source": [
    "test_set.class_indices"
   ]
  },
  {
   "cell_type": "code",
   "execution_count": 19,
   "id": "b55aa58c",
   "metadata": {},
   "outputs": [
    {
     "name": "stdout",
     "output_type": "stream",
     "text": [
      "9/9 [==============================] - 1s 57ms/step\n"
     ]
    }
   ],
   "source": [
    "y_pred = (classifier.predict(test_set) > 0.5).astype(\"int32\")"
   ]
  },
  {
   "cell_type": "code",
   "execution_count": 20,
   "id": "dc689252",
   "metadata": {},
   "outputs": [],
   "source": [
    "y_true = test_set.labels"
   ]
  },
  {
   "cell_type": "code",
   "execution_count": 21,
   "id": "43b996ad",
   "metadata": {},
   "outputs": [
    {
     "ename": "ModuleNotFoundError",
     "evalue": "No module named 'sklearn'",
     "output_type": "error",
     "traceback": [
      "\u001b[1;31m---------------------------------------------------------------------------\u001b[0m",
      "\u001b[1;31mModuleNotFoundError\u001b[0m                       Traceback (most recent call last)",
      "\u001b[1;32m~\\AppData\\Local\\Temp\\ipykernel_1960\\3379212316.py\u001b[0m in \u001b[0;36m<cell line: 1>\u001b[1;34m()\u001b[0m\n\u001b[1;32m----> 1\u001b[1;33m \u001b[1;32mfrom\u001b[0m \u001b[0msklearn\u001b[0m\u001b[1;33m.\u001b[0m\u001b[0mmetrics\u001b[0m \u001b[1;32mimport\u001b[0m \u001b[0mconfusion_matrix\u001b[0m\u001b[1;33m,\u001b[0m \u001b[0mclassification_report\u001b[0m\u001b[1;33m,\u001b[0m\u001b[0mmatthews_corrcoef\u001b[0m\u001b[1;33m\u001b[0m\u001b[1;33m\u001b[0m\u001b[0m\n\u001b[0m\u001b[0;32m      2\u001b[0m \u001b[0mpredIdxs\u001b[0m \u001b[1;33m=\u001b[0m \u001b[0my_pred\u001b[0m\u001b[1;33m\u001b[0m\u001b[1;33m\u001b[0m\u001b[0m\n\u001b[0;32m      3\u001b[0m \u001b[1;33m\u001b[0m\u001b[0m\n\u001b[0;32m      4\u001b[0m \u001b[0mprint\u001b[0m\u001b[1;33m(\u001b[0m\u001b[1;34m'\\n'\u001b[0m\u001b[1;33m)\u001b[0m\u001b[1;33m\u001b[0m\u001b[1;33m\u001b[0m\u001b[0m\n\u001b[0;32m      5\u001b[0m \u001b[0mprint\u001b[0m\u001b[1;33m(\u001b[0m\u001b[0mclassification_report\u001b[0m\u001b[1;33m(\u001b[0m\u001b[0mtest_set\u001b[0m\u001b[1;33m.\u001b[0m\u001b[0mlabels\u001b[0m\u001b[1;33m,\u001b[0m \u001b[0mpredIdxs\u001b[0m\u001b[1;33m,\u001b[0m\u001b[0mtarget_names\u001b[0m \u001b[1;33m=\u001b[0m \u001b[1;33m[\u001b[0m\u001b[1;34m'benign'\u001b[0m\u001b[1;33m,\u001b[0m\u001b[1;34m'malignant'\u001b[0m\u001b[1;33m]\u001b[0m\u001b[1;33m,\u001b[0m \u001b[0mdigits\u001b[0m\u001b[1;33m=\u001b[0m\u001b[1;36m5\u001b[0m\u001b[1;33m)\u001b[0m\u001b[1;33m)\u001b[0m\u001b[1;33m\u001b[0m\u001b[1;33m\u001b[0m\u001b[0m\n",
      "\u001b[1;31mModuleNotFoundError\u001b[0m: No module named 'sklearn'"
     ]
    }
   ],
   "source": [
    "from sklearn.metrics import confusion_matrix, classification_report,matthews_corrcoef\n",
    "predIdxs = y_pred\n",
    "\n",
    "print('\\n')\n",
    "print(classification_report(test_set.labels, predIdxs,target_names = ['benign','malignant'], digits=5))\n",
    "\n",
    "print('\\n')\n",
    "mcc = matthews_corrcoef(y_true,y_pred)\n",
    "print(f\"mcc {mcc}\")"
   ]
  },
  {
   "cell_type": "code",
   "execution_count": null,
   "id": "cca17552",
   "metadata": {},
   "outputs": [],
   "source": [
    "pip install scikit-learn"
   ]
  },
  {
   "cell_type": "code",
   "execution_count": null,
   "id": "e19c361e",
   "metadata": {},
   "outputs": [],
   "source": []
  }
 ],
 "metadata": {
  "kernelspec": {
   "display_name": "forML",
   "language": "python",
   "name": "forml"
  },
  "language_info": {
   "codemirror_mode": {
    "name": "ipython",
    "version": 3
   },
   "file_extension": ".py",
   "mimetype": "text/x-python",
   "name": "python",
   "nbconvert_exporter": "python",
   "pygments_lexer": "ipython3",
   "version": "3.10.5 (tags/v3.10.5:f377153, Jun  6 2022, 16:14:13) [MSC v.1929 64 bit (AMD64)]"
  }
 },
 "nbformat": 4,
 "nbformat_minor": 5
}
