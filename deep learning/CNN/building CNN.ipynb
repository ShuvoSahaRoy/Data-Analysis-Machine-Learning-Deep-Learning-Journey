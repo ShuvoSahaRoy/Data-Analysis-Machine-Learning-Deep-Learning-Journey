{
 "cells": [
  {
   "cell_type": "code",
   "execution_count": 1,
   "id": "16c9e812",
   "metadata": {},
   "outputs": [],
   "source": [
    "from tensorflow.keras.models import Sequential\n",
    "from tensorflow.keras.layers import Convolution2D, MaxPooling2D, Flatten, Dense"
   ]
  },
  {
   "cell_type": "code",
   "execution_count": 2,
   "id": "176cfe71",
   "metadata": {},
   "outputs": [],
   "source": [
    "classifier = Sequential()"
   ]
  },
  {
   "cell_type": "markdown",
   "id": "ac24e62b",
   "metadata": {},
   "source": [
    "### CNN model building"
   ]
  },
  {
   "cell_type": "code",
   "execution_count": 3,
   "id": "bc11d884",
   "metadata": {},
   "outputs": [],
   "source": [
    "classifier.add(Convolution2D(32,3,3,input_shape=(64,64,3), activation = 'relu'))\n",
    "classifier.add(MaxPooling2D(pool_size = (2,2)))\n",
    "\n",
    "classifier.add(Convolution2D(64,3,3, activation = 'relu'))\n",
    "classifier.add(MaxPooling2D(pool_size = (2,2)))\n",
    "\n",
    "classifier.add(Flatten())\n",
    "classifier.add(Dense(units = 128, activation = 'relu'))\n",
    "classifier.add(Dense(units = 1, activation = 'sigmoid'))"
   ]
  },
  {
   "cell_type": "code",
   "execution_count": 4,
   "id": "5c7de6b8",
   "metadata": {},
   "outputs": [],
   "source": [
    "classifier.compile(optimizer = 'adam', loss='binary_crossentropy', metrics = ['accuracy'])"
   ]
  },
  {
   "cell_type": "code",
   "execution_count": 5,
   "id": "e8775aea",
   "metadata": {},
   "outputs": [],
   "source": [
    "from tensorflow.keras.preprocessing.image import ImageDataGenerator"
   ]
  },
  {
   "cell_type": "code",
   "execution_count": 6,
   "id": "251b6e27",
   "metadata": {},
   "outputs": [],
   "source": [
    "train_datagen = ImageDataGenerator(rescale = 1./255,\n",
    "                                   shear_range = 0.2,\n",
    "                                   zoom_range = 0.2,\n",
    "                                   horizontal_flip = True)\n",
    "\n",
    "test_datagen = ImageDataGenerator(rescale = 1./255)"
   ]
  },
  {
   "cell_type": "code",
   "execution_count": 7,
   "id": "1b37fa35",
   "metadata": {},
   "outputs": [],
   "source": [
    "train_path = r'D:\\breakHis project\\breakhis 400x\\train'\n",
    "valid_path = r'D:\\breakHis project\\breakhis 400x\\val'\n",
    "test_path = r'D:\\breakHis project\\breakhis 400x\\test'"
   ]
  },
  {
   "cell_type": "code",
   "execution_count": 8,
   "id": "60ec0b16",
   "metadata": {},
   "outputs": [
    {
     "name": "stdout",
     "output_type": "stream",
     "text": [
      "Found 1184 images belonging to 2 classes.\n",
      "Found 338 images belonging to 2 classes.\n",
      "Found 171 images belonging to 2 classes.\n"
     ]
    }
   ],
   "source": [
    "# Make sure you provide the same target size as initialied for the image size\n",
    "training_set = train_datagen.flow_from_directory(train_path,\n",
    "                                                 target_size = (64,64),\n",
    "                                                 batch_size = 32,\n",
    "                                                 class_mode = 'binary')\n",
    "val_set = test_datagen.flow_from_directory(valid_path,\n",
    "                                            target_size = (64,64),\n",
    "                                            batch_size = 32,\n",
    "                                            class_mode = 'binary')\n",
    "test_set = test_datagen.flow_from_directory(test_path,\n",
    "                                            target_size = (64,64),\n",
    "                                            batch_size = 32,\n",
    "                                            class_mode = 'binary',\n",
    "                                            shuffle = False)"
   ]
  },
  {
   "cell_type": "code",
   "execution_count": 9,
   "id": "aafb5568",
   "metadata": {},
   "outputs": [
    {
     "name": "stdout",
     "output_type": "stream",
     "text": [
      "Epoch 1/20\n",
      "37/37 [==============================] - 37s 975ms/step - loss: 0.6186 - accuracy: 0.6774 - val_loss: 0.5898 - val_accuracy: 0.6775\n",
      "Epoch 2/20\n",
      "37/37 [==============================] - 23s 628ms/step - loss: 0.5611 - accuracy: 0.6959 - val_loss: 0.5069 - val_accuracy: 0.7959\n",
      "Epoch 3/20\n",
      "37/37 [==============================] - 27s 745ms/step - loss: 0.5070 - accuracy: 0.8024 - val_loss: 0.4744 - val_accuracy: 0.8166\n",
      "Epoch 4/20\n",
      "37/37 [==============================] - 28s 755ms/step - loss: 0.4804 - accuracy: 0.8150 - val_loss: 0.4826 - val_accuracy: 0.7751\n",
      "Epoch 5/20\n",
      "37/37 [==============================] - 28s 753ms/step - loss: 0.4951 - accuracy: 0.7686 - val_loss: 0.4568 - val_accuracy: 0.7988\n",
      "Epoch 6/20\n",
      "37/37 [==============================] - 27s 743ms/step - loss: 0.5191 - accuracy: 0.7576 - val_loss: 0.5027 - val_accuracy: 0.7456\n",
      "Epoch 7/20\n",
      "37/37 [==============================] - 30s 807ms/step - loss: 0.4705 - accuracy: 0.8167 - val_loss: 0.4314 - val_accuracy: 0.8491\n",
      "Epoch 8/20\n",
      "37/37 [==============================] - 37s 1s/step - loss: 0.4601 - accuracy: 0.8176 - val_loss: 0.4196 - val_accuracy: 0.8550\n",
      "Epoch 9/20\n",
      "37/37 [==============================] - 25s 674ms/step - loss: 0.4425 - accuracy: 0.8294 - val_loss: 0.4112 - val_accuracy: 0.8580\n",
      "Epoch 10/20\n",
      "37/37 [==============================] - 26s 712ms/step - loss: 0.4436 - accuracy: 0.8328 - val_loss: 0.4147 - val_accuracy: 0.8432\n",
      "Epoch 11/20\n",
      "37/37 [==============================] - 25s 678ms/step - loss: 0.4436 - accuracy: 0.8243 - val_loss: 0.4163 - val_accuracy: 0.8314\n",
      "Epoch 12/20\n",
      "37/37 [==============================] - 26s 705ms/step - loss: 0.4325 - accuracy: 0.8302 - val_loss: 0.4000 - val_accuracy: 0.8669\n",
      "Epoch 13/20\n",
      "37/37 [==============================] - 29s 775ms/step - loss: 0.4417 - accuracy: 0.8252 - val_loss: 0.4173 - val_accuracy: 0.8284\n",
      "Epoch 14/20\n",
      "37/37 [==============================] - 25s 672ms/step - loss: 0.4418 - accuracy: 0.8218 - val_loss: 0.3981 - val_accuracy: 0.8669\n",
      "Epoch 15/20\n",
      "37/37 [==============================] - 26s 695ms/step - loss: 0.4268 - accuracy: 0.8412 - val_loss: 0.3937 - val_accuracy: 0.8669\n",
      "Epoch 16/20\n",
      "37/37 [==============================] - 27s 741ms/step - loss: 0.4240 - accuracy: 0.8345 - val_loss: 0.4029 - val_accuracy: 0.8432\n",
      "Epoch 17/20\n",
      "37/37 [==============================] - 25s 668ms/step - loss: 0.4206 - accuracy: 0.8412 - val_loss: 0.3988 - val_accuracy: 0.8609\n",
      "Epoch 18/20\n",
      "37/37 [==============================] - 23s 627ms/step - loss: 0.4232 - accuracy: 0.8370 - val_loss: 0.4010 - val_accuracy: 0.8373\n",
      "Epoch 19/20\n",
      "37/37 [==============================] - 24s 640ms/step - loss: 0.4214 - accuracy: 0.8328 - val_loss: 0.3885 - val_accuracy: 0.8698\n",
      "Epoch 20/20\n",
      "37/37 [==============================] - 24s 662ms/step - loss: 0.4124 - accuracy: 0.8488 - val_loss: 0.4216 - val_accuracy: 0.8343\n"
     ]
    }
   ],
   "source": [
    "model = classifier.fit(\n",
    "  training_set,\n",
    "  validation_data=val_set,\n",
    "  epochs=20,\n",
    "  steps_per_epoch=len(training_set),\n",
    "  validation_steps=len(val_set)\n",
    ")"
   ]
  },
  {
   "cell_type": "code",
   "execution_count": 10,
   "id": "c5d5ae74",
   "metadata": {},
   "outputs": [
    {
     "data": {
      "image/png": "[encoded data removed]",
      "text/plain": [
       "<Figure size 432x288 with 1 Axes>"
      ]
     },
     "metadata": {
      "needs_background": "light"
     },
     "output_type": "display_data"
    },
    {
     "data": {
      "image/png": "[encoded data removed]",
      "text/plain": [
       "<Figure size 432x288 with 1 Axes>"
      ]
     },
     "metadata": {
      "needs_background": "light"
     },
     "output_type": "display_data"
    }
   ],
   "source": [
    "import matplotlib.pyplot as plt\n",
    "# plot the loss\n",
    "plt.plot(model.history['loss'], label='train loss')\n",
    "plt.plot(model.history['val_loss'], label='val loss')\n",
    "plt.legend()\n",
    "plt.show()\n",
    "# plt.savefig('LossVal_loss')\n",
    "\n",
    "# plot the accuracy\n",
    "plt.plot(model.history['accuracy'], label='train acc')\n",
    "plt.plot(model.history['val_accuracy'], label='val acc')\n",
    "plt.legend()\n",
    "plt.show()\n",
    "# plt.savefig('AccVal_acc')"
   ]
  },
  {
   "cell_type": "code",
   "execution_count": 11,
   "id": "002b03c7",
   "metadata": {},
   "outputs": [
    {
     "data": {
      "text/plain": [
       "0.807516896724701"
      ]
     },
     "execution_count": 11,
     "metadata": {},
     "output_type": "execute_result"
    }
   ],
   "source": [
    "# average training accuracy\n",
    "import numpy as np\n",
    "np.mean(model.history['accuracy'])"
   ]
  },
  {
   "cell_type": "code",
   "execution_count": 12,
   "id": "85bda96c",
   "metadata": {},
   "outputs": [
    {
     "name": "stdout",
     "output_type": "stream",
     "text": [
      "11/11 [==============================] - 5s 459ms/step - loss: 0.4216 - accuracy: 0.8343\n"
     ]
    },
    {
     "data": {
      "text/plain": [
       "[0.42163053154945374, 0.834319531917572]"
      ]
     },
     "execution_count": 12,
     "metadata": {},
     "output_type": "execute_result"
    }
   ],
   "source": [
    "# val accuracy\n",
    "classifier.evaluate(val_set)"
   ]
  },
  {
   "cell_type": "code",
   "execution_count": 13,
   "id": "153309bc",
   "metadata": {},
   "outputs": [
    {
     "name": "stdout",
     "output_type": "stream",
     "text": [
      "6/6 [==============================] - 4s 686ms/step - loss: 0.4601 - accuracy: 0.8012\n"
     ]
    },
    {
     "data": {
      "text/plain": [
       "[0.4600899815559387, 0.8011695742607117]"
      ]
     },
     "execution_count": 13,
     "metadata": {},
     "output_type": "execute_result"
    }
   ],
   "source": [
    "# test accuracy\n",
    "classifier.evaluate(test_set)"
   ]
  },
  {
   "cell_type": "code",
   "execution_count": 14,
   "id": "9bfccebc",
   "metadata": {},
   "outputs": [
    {
     "data": {
      "text/plain": [
       "{'benign': 0, 'malignant': 1}"
      ]
     },
     "execution_count": 14,
     "metadata": {},
     "output_type": "execute_result"
    }
   ],
   "source": [
    "test_set.class_indices"
   ]
  },
  {
   "cell_type": "code",
   "execution_count": 15,
   "id": "b55aa58c",
   "metadata": {},
   "outputs": [
    {
     "name": "stdout",
     "output_type": "stream",
     "text": [
      "6/6 [==============================] - 3s 505ms/step\n"
     ]
    }
   ],
   "source": [
    "y_pred = (classifier.predict(test_set) > 0.5).astype(\"int32\")"
   ]
  },
  {
   "cell_type": "code",
   "execution_count": 16,
   "id": "dc689252",
   "metadata": {},
   "outputs": [],
   "source": [
    "y_true = test_set.labels"
   ]
  },
  {
   "cell_type": "code",
   "execution_count": 17,
   "id": "43b996ad",
   "metadata": {},
   "outputs": [
    {
     "name": "stdout",
     "output_type": "stream",
     "text": [
      "\n",
      "\n",
      "              precision    recall  f1-score   support\n",
      "\n",
      "      benign    0.84375   0.48214   0.61364        56\n",
      "   malignant    0.79137   0.95652   0.86614       115\n",
      "\n",
      "    accuracy                        0.80117       171\n",
      "   macro avg    0.81756   0.71933   0.73989       171\n",
      "weighted avg    0.80852   0.80117   0.78345       171\n",
      "\n",
      "\n",
      "\n",
      "mcc 0.5278288561315297\n"
     ]
    }
   ],
   "source": [
    "from sklearn.metrics import confusion_matrix, classification_report,matthews_corrcoef\n",
    "predIdxs = y_pred\n",
    "\n",
    "print('\\n')\n",
    "print(classification_report(test_set.labels, predIdxs,target_names = ['benign','malignant'], digits=5))\n",
    "\n",
    "print('\\n')\n",
    "mcc = matthews_corrcoef(y_true,y_pred)\n",
    "print(f\"mcc {mcc}\")"
   ]
  },
  {
   "cell_type": "code",
   "execution_count": null,
   "id": "cca17552",
   "metadata": {},
   "outputs": [],
   "source": []
  }
 ],
 "metadata": {
  "kernelspec": {
   "display_name": "forMl",
   "language": "python",
   "name": "forml"
  },
  "language_info": {
   "codemirror_mode": {
    "name": "ipython",
    "version": 3
   },
   "file_extension": ".py",
   "mimetype": "text/x-python",
   "name": "python",
   "nbconvert_exporter": "python",
   "pygments_lexer": "ipython3",
   "version": "3.10.5"
  }
 },
 "nbformat": 4,
 "nbformat_minor": 5
}
