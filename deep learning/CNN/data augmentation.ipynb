{
 "cells": [
  {
   "cell_type": "code",
   "execution_count": 27,
   "id": "639813f9",
   "metadata": {},
   "outputs": [
    {
     "data": {
      "text/plain": [
       "['D:\\\\project CNN\\\\Alzheimer\\\\Dataset\\\\Mild_Demented',\n",
       " 'D:\\\\project CNN\\\\Alzheimer\\\\Dataset\\\\Moderate_Demented',\n",
       " 'D:\\\\project CNN\\\\Alzheimer\\\\Dataset\\\\Non_Demented',\n",
       " 'D:\\\\project CNN\\\\Alzheimer\\\\Dataset\\\\Very_Mild_Demented']"
      ]
     },
     "execution_count": 27,
     "metadata": {},
     "output_type": "execute_result"
    }
   ],
   "source": [
    "import os\n",
    "from glob import glob\n",
    "from matplotlib import pyplot as plt\n",
    "\n",
    "# useful for getting number of output classes\n",
    "folders = glob(r'D:\\project CNN\\Alzheimer\\Dataset\\*')\n",
    "folders"
   ]
  },
  {
   "cell_type": "code",
   "execution_count": 28,
   "id": "272b9de9",
   "metadata": {},
   "outputs": [
    {
     "data": {
      "text/plain": [
       "{'Mild_Demented': 896,\n",
       " 'Moderate_Demented': 64,\n",
       " 'Non_Demented': 3200,\n",
       " 'Very_Mild_Demented': 2240}"
      ]
     },
     "execution_count": 28,
     "metadata": {},
     "output_type": "execute_result"
    }
   ],
   "source": [
    "folders_details = {}\n",
    "\n",
    "for folder in folders:\n",
    "    name = folder.split(\"\\\\\")[-1]\n",
    "    folders_details[name] = len(os.listdir(folder))\n",
    "\n",
    "folders_details"
   ]
  },
  {
   "cell_type": "code",
   "execution_count": 29,
   "id": "a1b0ef3b",
   "metadata": {},
   "outputs": [],
   "source": [
    "data_names = list(folders_details.keys())\n",
    "data_item = list(folders_details.values())"
   ]
  },
  {
   "cell_type": "code",
   "execution_count": 30,
   "id": "6b230e1e",
   "metadata": {},
   "outputs": [
    {
     "data": {
      "image/png": "[encoded data removed]",
      "text/plain": [
       "<Figure size 720x360 with 1 Axes>"
      ]
     },
     "metadata": {
      "needs_background": "light"
     },
     "output_type": "display_data"
    }
   ],
   "source": [
    "def bar_plot(names, numbers):\n",
    "    fig = plt.figure(figsize = (10, 5))\n",
    " \n",
    "    # creating the bar plot\n",
    "    plt.bar(data_names, data_item, color ='blue',\n",
    "            width = 0.4)\n",
    "\n",
    "    plt.xlabel(\"Dataset\")\n",
    "    plt.ylabel(\"No. of images\")\n",
    "    plt.title(\"Dataset Details\")\n",
    "    plt.show()\n",
    "\n",
    "bar_plot(data_names,data_item)"
   ]
  },
  {
   "cell_type": "markdown",
   "id": "d9297341",
   "metadata": {},
   "source": [
    "### 'Alzheimer_Mild_Demented', 'Alzheimer_Moderate_Demented' these 2 subsets need to be augmented"
   ]
  },
  {
   "cell_type": "code",
   "execution_count": 50,
   "id": "5391bfbb",
   "metadata": {},
   "outputs": [],
   "source": [
    "from tensorflow.keras.preprocessing.image import ImageDataGenerator, array_to_img, img_to_array, load_img\n",
    "\n",
    "datagen = ImageDataGenerator(\n",
    "        rotation_range=40,\n",
    "        width_shift_range=0.2,\n",
    "        height_shift_range=0.2,\n",
    "        shear_range=0.2,\n",
    "        zoom_range=0.2,\n",
    "        horizontal_flip=True,\n",
    "        fill_mode='nearest')"
   ]
  },
  {
   "cell_type": "code",
   "execution_count": 90,
   "id": "696c5c15",
   "metadata": {},
   "outputs": [],
   "source": [
    "def data_augmentation(image_path, store_path):\n",
    "    img = load_img(image_path,color_mode=\"rgb\")  # this is a PIL image\n",
    "    x = img_to_array(img)  \n",
    "#     if x.shape[-1] != 3: \n",
    "    x = x.reshape((1,) + x.shape)  \n",
    "    # the .flow() command below generates batches of randomly transformed images\n",
    "    i = 0\n",
    "    for batch in datagen.flow(x, batch_size=1,save_to_dir=store_path, save_prefix='moderate_demented_augmented', save_format='jpeg'):\n",
    "        if i == 20:\n",
    "            break  # otherwise the generator would loop indefinitely\n",
    "        i += 1"
   ]
  },
  {
   "cell_type": "code",
   "execution_count": 94,
   "id": "7c0ebf79",
   "metadata": {},
   "outputs": [
    {
     "data": {
      "text/plain": [
       "'D:\\\\project CNN\\\\Alzheimer\\\\Dataset\\\\Moderate_Demented'"
      ]
     },
     "execution_count": 94,
     "metadata": {},
     "output_type": "execute_result"
    }
   ],
   "source": [
    "files = os.listdir(folders[1])\n",
    "folders[1]"
   ]
  },
  {
   "cell_type": "code",
   "execution_count": 95,
   "id": "524a9b47",
   "metadata": {},
   "outputs": [
    {
     "name": "stdout",
     "output_type": "stream",
     "text": [
      "moderate.jpg\n",
      "moderate_10.jpg\n",
      "moderate_11.jpg\n",
      "moderate_12.jpg\n",
      "moderate_13.jpg\n",
      "moderate_14.jpg\n",
      "moderate_15.jpg\n",
      "moderate_16.jpg\n",
      "moderate_17.jpg\n",
      "moderate_18.jpg\n",
      "moderate_19.jpg\n",
      "moderate_2.jpg\n",
      "moderate_20.jpg\n",
      "moderate_21.jpg\n",
      "moderate_22.jpg\n",
      "moderate_23.jpg\n",
      "moderate_24.jpg\n",
      "moderate_25.jpg\n",
      "moderate_26.jpg\n",
      "moderate_27.jpg\n",
      "moderate_28.jpg\n",
      "moderate_29.jpg\n",
      "moderate_3.jpg\n",
      "moderate_30.jpg\n",
      "moderate_31.jpg\n",
      "moderate_32.jpg\n",
      "moderate_33.jpg\n",
      "moderate_34.jpg\n",
      "moderate_35.jpg\n",
      "moderate_36.jpg\n",
      "moderate_37.jpg\n",
      "moderate_38.jpg\n",
      "moderate_39.jpg\n",
      "moderate_4.jpg\n",
      "moderate_40.jpg\n",
      "moderate_41.jpg\n",
      "moderate_42.jpg\n",
      "moderate_43.jpg\n",
      "moderate_44.jpg\n",
      "moderate_45.jpg\n",
      "moderate_46.jpg\n",
      "moderate_47.jpg\n",
      "moderate_48.jpg\n",
      "moderate_49.jpg\n",
      "moderate_5.jpg\n",
      "moderate_50.jpg\n",
      "moderate_51.jpg\n",
      "moderate_52.jpg\n",
      "moderate_53.jpg\n",
      "moderate_54.jpg\n",
      "moderate_55.jpg\n",
      "moderate_56.jpg\n",
      "moderate_57.jpg\n",
      "moderate_58.jpg\n",
      "moderate_59.jpg\n",
      "moderate_6.jpg\n",
      "moderate_60.jpg\n",
      "moderate_61.jpg\n",
      "moderate_62.jpg\n",
      "moderate_63.jpg\n",
      "moderate_64.jpg\n",
      "moderate_7.jpg\n",
      "moderate_8.jpg\n",
      "moderate_9.jpg\n"
     ]
    }
   ],
   "source": [
    "for file in files:\n",
    "    print(file)\n",
    "    path = os.path.join(folders[1], file)\n",
    "    destination = r'D:\\project CNN\\Alzheimer\\Dataset\\augmented moderate_demented'\n",
    "    data_augmentation(path, destination)"
   ]
  },
  {
   "cell_type": "code",
   "execution_count": null,
   "id": "57eab8ee",
   "metadata": {},
   "outputs": [],
   "source": []
  },
  {
   "cell_type": "code",
   "execution_count": null,
   "id": "93f69850",
   "metadata": {},
   "outputs": [],
   "source": []
  },
  {
   "cell_type": "code",
   "execution_count": null,
   "id": "ff318243",
   "metadata": {},
   "outputs": [],
   "source": []
  }
 ],
 "metadata": {
  "kernelspec": {
   "display_name": "forMl",
   "language": "python",
   "name": "forml"
  },
  "language_info": {
   "codemirror_mode": {
    "name": "ipython",
    "version": 3
   },
   "file_extension": ".py",
   "mimetype": "text/x-python",
   "name": "python",
   "nbconvert_exporter": "python",
   "pygments_lexer": "ipython3",
   "version": "3.10.5"
  }
 },
 "nbformat": 4,
 "nbformat_minor": 5
}
