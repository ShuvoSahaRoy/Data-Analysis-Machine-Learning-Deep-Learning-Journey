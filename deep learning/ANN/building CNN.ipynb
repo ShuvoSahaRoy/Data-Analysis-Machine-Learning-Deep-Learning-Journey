{
 "cells": [
  {
   "cell_type": "code",
   "execution_count": 15,
   "id": "16c9e812",
   "metadata": {},
   "outputs": [],
   "source": [
    "from tensorflow.keras.models import Sequential\n",
    "from tensorflow.keras.layers import Convolution2D, MaxPooling2D, Flatten, Dense"
   ]
  },
  {
   "cell_type": "code",
   "execution_count": 16,
   "id": "176cfe71",
   "metadata": {},
   "outputs": [],
   "source": [
    "classifier = Sequential()"
   ]
  },
  {
   "cell_type": "markdown",
   "id": "ac24e62b",
   "metadata": {},
   "source": [
    "### CNN model building"
   ]
  },
  {
   "cell_type": "code",
   "execution_count": 17,
   "id": "bc11d884",
   "metadata": {},
   "outputs": [],
   "source": [
    "classifier.add(Convolution2D(32,3,3,input_shape=(64,64,3), activation = 'relu'))\n",
    "classifier.add(MaxPooling2D(pool_size = (2,2)))\n",
    "classifier.add(Flatten())\n",
    "classifier.add(Dense(units = 128, activation = 'relu'))\n",
    "classifier.add(Dense(units = 1, activation = 'sigmoid'))"
   ]
  },
  {
   "cell_type": "code",
   "execution_count": 18,
   "id": "5c7de6b8",
   "metadata": {},
   "outputs": [],
   "source": [
    "classifier.compile(optimizer = 'adam', loss='binary_crossentropy', metrics = ['accuracy'])"
   ]
  },
  {
   "cell_type": "code",
   "execution_count": 19,
   "id": "e8775aea",
   "metadata": {},
   "outputs": [],
   "source": [
    "from tensorflow.keras.preprocessing.image import ImageDataGenerator"
   ]
  },
  {
   "cell_type": "code",
   "execution_count": 20,
   "id": "251b6e27",
   "metadata": {},
   "outputs": [],
   "source": [
    "train_datagen = ImageDataGenerator(rescale = 1./255,\n",
    "                                   shear_range = 0.2,\n",
    "                                   zoom_range = 0.2,\n",
    "                                   horizontal_flip = True)\n",
    "\n",
    "test_datagen = ImageDataGenerator(rescale = 1./255)"
   ]
  },
  {
   "cell_type": "code",
   "execution_count": 21,
   "id": "1b37fa35",
   "metadata": {},
   "outputs": [],
   "source": [
    "train_path = r'D:\\breakHis project\\breakhis 400x\\train'\n",
    "valid_path = r'D:\\breakHis project\\breakhis 400x\\val'\n",
    "test_path = r'D:\\breakHis project\\breakhis 400x\\test'"
   ]
  },
  {
   "cell_type": "code",
   "execution_count": 22,
   "id": "60ec0b16",
   "metadata": {},
   "outputs": [
    {
     "name": "stdout",
     "output_type": "stream",
     "text": [
      "Found 1184 images belonging to 2 classes.\n",
      "Found 338 images belonging to 2 classes.\n",
      "Found 171 images belonging to 2 classes.\n"
     ]
    }
   ],
   "source": [
    "# Make sure you provide the same target size as initialied for the image size\n",
    "training_set = train_datagen.flow_from_directory(train_path,\n",
    "                                                 target_size = (64,64),\n",
    "                                                 batch_size = 32,\n",
    "                                                 class_mode = 'binary')\n",
    "val_set = test_datagen.flow_from_directory(valid_path,\n",
    "                                            target_size = (64,64),\n",
    "                                            batch_size = 32,\n",
    "                                            class_mode = 'binary')\n",
    "test_set = test_datagen.flow_from_directory(test_path,\n",
    "                                            target_size = (64,64),\n",
    "                                            batch_size = 32,\n",
    "                                            class_mode = 'binary',\n",
    "                                            shuffle = False)"
   ]
  },
  {
   "cell_type": "code",
   "execution_count": 24,
   "id": "aafb5568",
   "metadata": {},
   "outputs": [
    {
     "name": "stdout",
     "output_type": "stream",
     "text": [
      "Epoch 1/20\n",
      "37/37 [==============================] - 39s 1s/step - loss: 0.6670 - accuracy: 0.6360 - val_loss: 0.5527 - val_accuracy: 0.6775\n",
      "Epoch 2/20\n",
      "37/37 [==============================] - 24s 652ms/step - loss: 0.5247 - accuracy: 0.7703 - val_loss: 0.4780 - val_accuracy: 0.8107\n",
      "Epoch 3/20\n",
      "37/37 [==============================] - 28s 769ms/step - loss: 0.4889 - accuracy: 0.8100 - val_loss: 0.5348 - val_accuracy: 0.7367\n",
      "Epoch 4/20\n",
      "37/37 [==============================] - 25s 675ms/step - loss: 0.4779 - accuracy: 0.8066 - val_loss: 0.4607 - val_accuracy: 0.8491\n",
      "Epoch 5/20\n",
      "37/37 [==============================] - 30s 803ms/step - loss: 0.4741 - accuracy: 0.8083 - val_loss: 0.4393 - val_accuracy: 0.8432\n",
      "Epoch 6/20\n",
      "37/37 [==============================] - 24s 658ms/step - loss: 0.4599 - accuracy: 0.8243 - val_loss: 0.4396 - val_accuracy: 0.8462\n",
      "Epoch 7/20\n",
      "37/37 [==============================] - 23s 623ms/step - loss: 0.4458 - accuracy: 0.8370 - val_loss: 0.5389 - val_accuracy: 0.7249\n",
      "Epoch 8/20\n",
      "37/37 [==============================] - 23s 620ms/step - loss: 0.4402 - accuracy: 0.8319 - val_loss: 0.4372 - val_accuracy: 0.8343\n",
      "Epoch 9/20\n",
      "37/37 [==============================] - 23s 624ms/step - loss: 0.4360 - accuracy: 0.8387 - val_loss: 0.4145 - val_accuracy: 0.8462\n",
      "Epoch 10/20\n",
      "37/37 [==============================] - 23s 620ms/step - loss: 0.4247 - accuracy: 0.8429 - val_loss: 0.4212 - val_accuracy: 0.8432\n",
      "Epoch 11/20\n",
      "37/37 [==============================] - 23s 619ms/step - loss: 0.4245 - accuracy: 0.8353 - val_loss: 0.4122 - val_accuracy: 0.8491\n",
      "Epoch 12/20\n",
      "37/37 [==============================] - 23s 626ms/step - loss: 0.4260 - accuracy: 0.8328 - val_loss: 0.4383 - val_accuracy: 0.8284\n",
      "Epoch 13/20\n",
      "37/37 [==============================] - 23s 624ms/step - loss: 0.4299 - accuracy: 0.8243 - val_loss: 0.4334 - val_accuracy: 0.8284\n",
      "Epoch 14/20\n",
      "37/37 [==============================] - 23s 621ms/step - loss: 0.4206 - accuracy: 0.8471 - val_loss: 0.4164 - val_accuracy: 0.8373\n",
      "Epoch 15/20\n",
      "37/37 [==============================] - 23s 622ms/step - loss: 0.4069 - accuracy: 0.8539 - val_loss: 0.3955 - val_accuracy: 0.8550\n",
      "Epoch 16/20\n",
      "37/37 [==============================] - 23s 620ms/step - loss: 0.4078 - accuracy: 0.8530 - val_loss: 0.4090 - val_accuracy: 0.8373\n",
      "Epoch 17/20\n",
      "37/37 [==============================] - 23s 631ms/step - loss: 0.4106 - accuracy: 0.8353 - val_loss: 0.4203 - val_accuracy: 0.8107\n",
      "Epoch 18/20\n",
      "37/37 [==============================] - 24s 637ms/step - loss: 0.4317 - accuracy: 0.8159 - val_loss: 0.5205 - val_accuracy: 0.7515\n",
      "Epoch 19/20\n",
      "37/37 [==============================] - 23s 622ms/step - loss: 0.4066 - accuracy: 0.8438 - val_loss: 0.4812 - val_accuracy: 0.7929\n",
      "Epoch 20/20\n",
      "37/37 [==============================] - 23s 627ms/step - loss: 0.4267 - accuracy: 0.8269 - val_loss: 0.5497 - val_accuracy: 0.7426\n"
     ]
    }
   ],
   "source": [
    "model = classifier.fit(\n",
    "  training_set,\n",
    "  validation_data=val_set,\n",
    "  epochs=20,\n",
    "  steps_per_epoch=len(training_set),\n",
    "  validation_steps=len(val_set)\n",
    ")"
   ]
  },
  {
   "cell_type": "code",
   "execution_count": 26,
   "id": "c5d5ae74",
   "metadata": {},
   "outputs": [
    {
     "data": {
      "image/png": "[encoded data removed]",
      "text/plain": [
       "<Figure size 432x288 with 1 Axes>"
      ]
     },
     "metadata": {
      "needs_background": "light"
     },
     "output_type": "display_data"
    },
    {
     "data": {
      "image/png": "[encoded data removed]",
      "text/plain": [
       "<Figure size 432x288 with 1 Axes>"
      ]
     },
     "metadata": {
      "needs_background": "light"
     },
     "output_type": "display_data"
    }
   ],
   "source": [
    "import matplotlib.pyplot as plt\n",
    "# plot the loss\n",
    "plt.plot(model.history['loss'], label='train loss')\n",
    "plt.plot(model.history['val_loss'], label='val loss')\n",
    "plt.legend()\n",
    "plt.show()\n",
    "# plt.savefig('LossVal_loss')\n",
    "\n",
    "# plot the accuracy\n",
    "plt.plot(model.history['accuracy'], label='train acc')\n",
    "plt.plot(model.history['val_accuracy'], label='val acc')\n",
    "plt.legend()\n",
    "plt.show()\n",
    "# plt.savefig('AccVal_acc')"
   ]
  },
  {
   "cell_type": "code",
   "execution_count": 28,
   "id": "002b03c7",
   "metadata": {},
   "outputs": [
    {
     "data": {
      "text/plain": [
       "0.8187077671289444"
      ]
     },
     "execution_count": 28,
     "metadata": {},
     "output_type": "execute_result"
    }
   ],
   "source": [
    "# average training accuracy\n",
    "import numpy as np\n",
    "np.mean(model.history['accuracy'])"
   ]
  },
  {
   "cell_type": "code",
   "execution_count": 30,
   "id": "85bda96c",
   "metadata": {},
   "outputs": [
    {
     "name": "stdout",
     "output_type": "stream",
     "text": [
      "11/11 [==============================] - 5s 454ms/step - loss: 0.5497 - accuracy: 0.7426\n"
     ]
    },
    {
     "data": {
      "text/plain": [
       "[0.5497029423713684, 0.7426035404205322]"
      ]
     },
     "execution_count": 30,
     "metadata": {},
     "output_type": "execute_result"
    }
   ],
   "source": [
    "# val accuracy\n",
    "classifier.evaluate(val_set)"
   ]
  },
  {
   "cell_type": "code",
   "execution_count": 31,
   "id": "153309bc",
   "metadata": {},
   "outputs": [
    {
     "name": "stdout",
     "output_type": "stream",
     "text": [
      "6/6 [==============================] - 3s 583ms/step - loss: 0.6165 - accuracy: 0.6959\n"
     ]
    },
    {
     "data": {
      "text/plain": [
       "[0.6164634823799133, 0.6959064602851868]"
      ]
     },
     "execution_count": 31,
     "metadata": {},
     "output_type": "execute_result"
    }
   ],
   "source": [
    "# test accuracy\n",
    "classifier.evaluate(test_set)"
   ]
  },
  {
   "cell_type": "code",
   "execution_count": 32,
   "id": "9bfccebc",
   "metadata": {},
   "outputs": [
    {
     "data": {
      "text/plain": [
       "{'benign': 0, 'malignant': 1}"
      ]
     },
     "execution_count": 32,
     "metadata": {},
     "output_type": "execute_result"
    }
   ],
   "source": [
    "test_set.class_indices"
   ]
  },
  {
   "cell_type": "code",
   "execution_count": 34,
   "id": "b55aa58c",
   "metadata": {},
   "outputs": [
    {
     "name": "stdout",
     "output_type": "stream",
     "text": [
      "6/6 [==============================] - 3s 404ms/step\n"
     ]
    }
   ],
   "source": [
    "y_pred = (classifier.predict(test_set) > 0.5).astype(\"int32\")"
   ]
  },
  {
   "cell_type": "code",
   "execution_count": 35,
   "id": "dc689252",
   "metadata": {},
   "outputs": [],
   "source": [
    "y_true = test_set.labels"
   ]
  },
  {
   "cell_type": "code",
   "execution_count": 36,
   "id": "43b996ad",
   "metadata": {},
   "outputs": [
    {
     "name": "stdout",
     "output_type": "stream",
     "text": [
      "\n",
      "\n",
      "              precision    recall  f1-score   support\n",
      "\n",
      "      benign    0.52222   0.83929   0.64384        56\n",
      "   malignant    0.88889   0.62609   0.73469       115\n",
      "\n",
      "    accuracy                        0.69591       171\n",
      "   macro avg    0.70556   0.73269   0.68926       171\n",
      "weighted avg    0.76881   0.69591   0.70494       171\n",
      "\n",
      "\n",
      "\n",
      "mcc 0.43740127546270086\n"
     ]
    }
   ],
   "source": [
    "from sklearn.metrics import confusion_matrix, classification_report,matthews_corrcoef\n",
    "predIdxs = y_pred\n",
    "\n",
    "print('\\n')\n",
    "print(classification_report(test_set.labels, predIdxs,target_names = ['benign','malignant'], digits=5))\n",
    "\n",
    "print('\\n')\n",
    "mcc = matthews_corrcoef(y_true,y_pred)\n",
    "print(f\"mcc {mcc}\")"
   ]
  },
  {
   "cell_type": "code",
   "execution_count": null,
   "id": "cca17552",
   "metadata": {},
   "outputs": [],
   "source": []
  }
 ],
 "metadata": {
  "kernelspec": {
   "display_name": "forMl",
   "language": "python",
   "name": "forml"
  },
  "language_info": {
   "codemirror_mode": {
    "name": "ipython",
    "version": 3
   },
   "file_extension": ".py",
   "mimetype": "text/x-python",
   "name": "python",
   "nbconvert_exporter": "python",
   "pygments_lexer": "ipython3",
   "version": "3.10.5"
  }
 },
 "nbformat": 4,
 "nbformat_minor": 5
}
